{
 "cells": [
  {
   "cell_type": "markdown",
   "id": "a9153d62",
   "metadata": {},
   "source": [
    "### Q1 Running Ollama with Docker"
   ]
  },
  {
   "cell_type": "markdown",
   "id": "31ee2d40",
   "metadata": {},
   "source": [
    "Running the following command first to save the image in a local folder:"
   ]
  },
  {
   "cell_type": "raw",
   "id": "d65143b2",
   "metadata": {},
   "source": [
    "docker run -it \\\n",
    "    --rm \\\n",
    "    -v ./ollama_files:/root/.ollama \\\n",
    "    -p 11434:11434 \\\n",
    "    --name ollama \\\n",
    "    ollama/ollama"
   ]
  },
  {
   "cell_type": "markdown",
   "id": "59246e77",
   "metadata": {},
   "source": [
    "Once the image is pulled, use the following code to check the version:"
   ]
  },
  {
   "cell_type": "raw",
   "id": "665bbfbb",
   "metadata": {},
   "source": [
    "docker exec -it ollama bash\n",
    "ollama -v"
   ]
  },
  {
   "cell_type": "markdown",
   "id": "27727c1f",
   "metadata": {},
   "source": [
    "__Answer 1:__ ollama version is 0.1.48"
   ]
  },
  {
   "cell_type": "markdown",
   "id": "a00bfc0c",
   "metadata": {},
   "source": [
    "### Q2 Downloading an LLM"
   ]
  },
  {
   "cell_type": "markdown",
   "id": "94653c46",
   "metadata": {},
   "source": [
    "Execute the following commands from bash to pull gemma2.\n"
   ]
  },
  {
   "cell_type": "raw",
   "id": "bdcba3b7",
   "metadata": {},
   "source": [
    "ollama pull gemma:2b"
   ]
  },
  {
   "cell_type": "markdown",
   "id": "4194a957",
   "metadata": {},
   "source": [
    "Output"
   ]
  },
  {
   "cell_type": "raw",
   "id": "416c5258",
   "metadata": {},
   "source": [
    "pulling manifest \n",
    "pulling c1864a5eb193... 100% ▕████████████████▏ 1.7 GB                         \n",
    "pulling 097a36493f71... 100% ▕████████████████▏ 8.4 KB                         \n",
    "pulling 109037bec39c... 100% ▕████████████████▏  136 B                         \n",
    "pulling 22a838ceb7fb... 100% ▕████████████████▏   84 B                         \n",
    "pulling 887433b89a90... 100% ▕████████████████▏  483 B                         \n",
    "verifying sha256 digest \n",
    "writing manifest \n",
    "removing any unused layers \n",
    "success "
   ]
  },
  {
   "cell_type": "markdown",
   "id": "674183be",
   "metadata": {},
   "source": [
    "__Answer 2:__ Content of the file models/manifests/registry.ollama.ai/library/gemma:"
   ]
  },
  {
   "cell_type": "raw",
   "id": "a818774d",
   "metadata": {},
   "source": [
    "{\"schemaVersion\":2,\"mediaType\":\"application/vnd.docker.distribution.manifest.v2+json\",\"config\":{\"mediaType\":\"application/vnd.docker.container.image.v1+json\",\"digest\":\"sha256:887433b89a901c156f7e6944442f3c9e57f3c55d6ed52042cbb7303aea994290\",\"size\":483},\"layers\":[{\"mediaType\":\"application/vnd.ollama.image.model\",\"digest\":\"sha256:c1864a5eb19305c40519da12cc543519e48a0697ecd30e15d5ac228644957d12\",\"size\":1678447520},{\"mediaType\":\"application/vnd.ollama.image.license\",\"digest\":\"sha256:097a36493f718248845233af1d3fefe7a303f864fae13bc31a3a9704229378ca\",\"size\":8433},{\"mediaType\":\"application/vnd.ollama.image.template\",\"digest\":\"sha256:109037bec39c0becc8221222ae23557559bc594290945a2c4221ab4f303b8871\",\"size\":136},{\"mediaType\":\"application/vnd.ollama.image.params\",\"digest\":\"sha256:22a838ceb7fb22755a3b0ae9b4eadde629d19be1f651f73efb8c6b4e2cd0eea0\",\"size\":84}]}"
   ]
  },
  {
   "cell_type": "markdown",
   "id": "1dfc0362",
   "metadata": {},
   "source": [
    "### Q3 Running the LLM"
   ]
  },
  {
   "cell_type": "markdown",
   "id": "cb060b81",
   "metadata": {},
   "source": [
    "Running a query in LLM: 10*10\n",
    "\n",
    "__Answer 3:__"
   ]
  },
  {
   "cell_type": "raw",
   "id": "9314dc8e",
   "metadata": {},
   "source": [
    "Sure, here's the answer to your question:\n",
    "\n",
    "10 * 10 = 100."
   ]
  },
  {
   "cell_type": "markdown",
   "id": "71a18ff1",
   "metadata": {},
   "source": [
    "### Q4 Donwloading the weights"
   ]
  },
  {
   "cell_type": "markdown",
   "id": "630f848b",
   "metadata": {},
   "source": [
    "__Answer 4.__ The size of ollama_files/models is:"
   ]
  },
  {
   "cell_type": "raw",
   "id": "b9360ab3",
   "metadata": {},
   "source": [
    "1.68G"
   ]
  },
  {
   "cell_type": "markdown",
   "id": "1b2873fd",
   "metadata": {},
   "source": [
    "### Q5 Adding the weights"
   ]
  },
  {
   "cell_type": "code",
   "execution_count": null,
   "id": "80e96e70",
   "metadata": {},
   "outputs": [],
   "source": []
  }
 ],
 "metadata": {
  "kernelspec": {
   "display_name": "saturn (Python 3)",
   "language": "python",
   "name": "python3"
  },
  "language_info": {
   "codemirror_mode": {
    "name": "ipython",
    "version": 3
   },
   "file_extension": ".py",
   "mimetype": "text/x-python",
   "name": "python",
   "nbconvert_exporter": "python",
   "pygments_lexer": "ipython3",
   "version": "3.9.18"
  }
 },
 "nbformat": 4,
 "nbformat_minor": 5
}
