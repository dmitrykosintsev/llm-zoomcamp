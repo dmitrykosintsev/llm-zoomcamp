{
 "cells": [
  {
   "cell_type": "markdown",
   "id": "a9153d62",
   "metadata": {},
   "source": [
    "### Q1 Running Ollama with Docker"
   ]
  },
  {
   "cell_type": "markdown",
   "id": "31ee2d40",
   "metadata": {},
   "source": [
    "Running the following command first to save the image in a local folder:"
   ]
  },
  {
   "cell_type": "raw",
   "id": "d65143b2",
   "metadata": {},
   "source": [
    "docker run -it \\\n",
    "    --rm \\\n",
    "    -v ./ollama_files:/root/.ollama \\\n",
    "    -p 11434:11434 \\\n",
    "    --name ollama \\\n",
    "    ollama/ollama"
   ]
  },
  {
   "cell_type": "markdown",
   "id": "59246e77",
   "metadata": {},
   "source": [
    "Once the image is pulled, use the following code to check the version:"
   ]
  },
  {
   "cell_type": "raw",
   "id": "665bbfbb",
   "metadata": {},
   "source": [
    "docker exec -it ollama bash\n",
    "ollama -v"
   ]
  },
  {
   "cell_type": "markdown",
   "id": "27727c1f",
   "metadata": {},
   "source": [
    "__Answer 1:__ ollama version is 0.1.48"
   ]
  },
  {
   "cell_type": "markdown",
   "id": "a00bfc0c",
   "metadata": {},
   "source": [
    "### Q2 Downloading an LLM"
   ]
  },
  {
   "cell_type": "markdown",
   "id": "94653c46",
   "metadata": {},
   "source": [
    "Execute the following commands from bash to pull gemma2.\n"
   ]
  },
  {
   "cell_type": "raw",
   "id": "bdcba3b7",
   "metadata": {},
   "source": [
    "ollama pull gemma:2b"
   ]
  },
  {
   "cell_type": "markdown",
   "id": "4194a957",
   "metadata": {},
   "source": [
    "Output"
   ]
  },
  {
   "cell_type": "raw",
   "id": "416c5258",
   "metadata": {},
   "source": [
    "pulling manifest \n",
    "pulling c1864a5eb193... 100% ▕████████████████▏ 1.7 GB                         \n",
    "pulling 097a36493f71... 100% ▕████████████████▏ 8.4 KB                         \n",
    "pulling 109037bec39c... 100% ▕████████████████▏  136 B                         \n",
    "pulling 22a838ceb7fb... 100% ▕████████████████▏   84 B                         \n",
    "pulling 887433b89a90... 100% ▕████████████████▏  483 B                         \n",
    "verifying sha256 digest \n",
    "writing manifest \n",
    "removing any unused layers \n",
    "success "
   ]
  },
  {
   "cell_type": "markdown",
   "id": "674183be",
   "metadata": {},
   "source": [
    "__Answer 2:__ Content of the file models/manifests/registry.ollama.ai/library/gemma:"
   ]
  },
  {
   "cell_type": "raw",
   "id": "a818774d",
   "metadata": {},
   "source": [
    "{\"schemaVersion\":2,\"mediaType\":\"application/vnd.docker.distribution.manifest.v2+json\",\"config\":{\"mediaType\":\"application/vnd.docker.container.image.v1+json\",\"digest\":\"sha256:887433b89a901c156f7e6944442f3c9e57f3c55d6ed52042cbb7303aea994290\",\"size\":483},\"layers\":[{\"mediaType\":\"application/vnd.ollama.image.model\",\"digest\":\"sha256:c1864a5eb19305c40519da12cc543519e48a0697ecd30e15d5ac228644957d12\",\"size\":1678447520},{\"mediaType\":\"application/vnd.ollama.image.license\",\"digest\":\"sha256:097a36493f718248845233af1d3fefe7a303f864fae13bc31a3a9704229378ca\",\"size\":8433},{\"mediaType\":\"application/vnd.ollama.image.template\",\"digest\":\"sha256:109037bec39c0becc8221222ae23557559bc594290945a2c4221ab4f303b8871\",\"size\":136},{\"mediaType\":\"application/vnd.ollama.image.params\",\"digest\":\"sha256:22a838ceb7fb22755a3b0ae9b4eadde629d19be1f651f73efb8c6b4e2cd0eea0\",\"size\":84}]}"
   ]
  },
  {
   "cell_type": "markdown",
   "id": "1dfc0362",
   "metadata": {},
   "source": [
    "### Q3 Running the LLM"
   ]
  },
  {
   "cell_type": "markdown",
   "id": "cb060b81",
   "metadata": {},
   "source": [
    "Running a query in LLM: 10*10\n",
    "\n",
    "__Answer 3:__"
   ]
  },
  {
   "cell_type": "raw",
   "id": "9314dc8e",
   "metadata": {},
   "source": [
    "Sure, here's the answer to your question:\n",
    "\n",
    "10 * 10 = 100."
   ]
  },
  {
   "cell_type": "markdown",
   "id": "71a18ff1",
   "metadata": {},
   "source": [
    "### Q4 Donwloading the weights"
   ]
  },
  {
   "cell_type": "markdown",
   "id": "630f848b",
   "metadata": {},
   "source": [
    "The size of ollama_files/models is:"
   ]
  },
  {
   "cell_type": "raw",
   "id": "b9360ab3",
   "metadata": {
    "vscode": {
     "languageId": "raw"
    }
   },
   "source": [
    "du -h\n",
    "1.6G\t./blobs\n",
    "4.0K\t./manifests/registry.ollama.ai/library/gemma\n",
    "4.0K\t./manifests/registry.ollama.ai/library\n",
    "4.0K\t./manifests/registry.ollama.ai\n",
    "4.0K\t./manifests\n",
    "1.6G"
   ]
  },
  {
   "cell_type": "markdown",
   "id": "bcc4d43b",
   "metadata": {},
   "source": [
    "__Answer 4:__ 1.7G"
   ]
  },
  {
   "cell_type": "markdown",
   "id": "1b2873fd",
   "metadata": {},
   "source": [
    "### Q5 Adding the weights"
   ]
  },
  {
   "cell_type": "markdown",
   "id": "bd264574",
   "metadata": {},
   "source": [
    "Dockerfile:"
   ]
  },
  {
   "cell_type": "code",
   "execution_count": null,
   "id": "80e96e70",
   "metadata": {},
   "outputs": [],
   "source": [
    "FROM ollama/ollama\n",
    "\n",
    "COPY ollama_files /root/.ollama"
   ]
  },
  {
   "cell_type": "markdown",
   "id": "e614173e",
   "metadata": {},
   "source": [
    "__Answer 5:__ ollama_files /root/.ollama"
   ]
  },
  {
   "cell_type": "markdown",
   "id": "d25af78e",
   "metadata": {},
   "source": [
    "### Q6 Serving it"
   ]
  },
  {
   "cell_type": "markdown",
   "id": "0775da38",
   "metadata": {},
   "source": [
    "Building the image:"
   ]
  },
  {
   "cell_type": "code",
   "execution_count": null,
   "id": "2240d6bb",
   "metadata": {},
   "outputs": [],
   "source": [
    "docker build -t ollama-gemma2b .\n",
    "[+] Building 72.9s (7/7) FINISHED                          docker:desktop-linux\n",
    " => [internal] load build definition from Dockerfile                       0.1s\n",
    " => => transferring dockerfile: 89B                                        0.0s\n",
    " => [internal] load metadata for docker.io/ollama/ollama:latest            0.0s\n",
    " => [internal] load .dockerignore                                          0.0s\n",
    " => => transferring context: 2B                                            0.0s\n",
    " => [internal] load build context                                         38.3s\n",
    " => => transferring context: 1.68GB                                       38.3s\n",
    " => [1/2] FROM docker.io/ollama/ollama:latest                              0.1s\n",
    " => [2/2] COPY ollama_files /root/.ollama                                 19.4s\n",
    " => exporting to image                                                    14.8s\n",
    " => => exporting layers                                                   14.8s\n",
    " => => writing image sha256:f45dac79ab199093e54dad1f87e4a686cea78c8e177b8  0.0s\n",
    " => => naming to docker.io/library/ollama-gemma2b                          0.0s\n",
    "\n",
    "View build details: docker-desktop://dashboard/build/desktop-linux/desktop-linux/opluj70hzskxl56688ri2f0ow"
   ]
  },
  {
   "cell_type": "markdown",
   "id": "a49dec7f",
   "metadata": {},
   "source": [
    "Connecting to the image using OpenAI:"
   ]
  },
  {
   "cell_type": "code",
   "execution_count": null,
   "id": "737ae2f6",
   "metadata": {},
   "outputs": [],
   "source": [
    "# Connecting to OpenAI\n",
    "from openai import OpenAI\n",
    "\n",
    "client = OpenAI(\n",
    "    base_url='http://localhost:11434/v1/',\n",
    "    api_key='ollama',\n",
    ")\n",
    "\n",
    "# Defining the function with temperature 0\n",
    "def llm(prompt):\n",
    "    response = client.chat.completions.create(\n",
    "        model='gemma:2b',\n",
    "        messages=[{\"role\": \"user\", \"content\": prompt}],\n",
    "        temperature=0.0\n",
    "    )\n",
    "    \n",
    "    return response.choices[0].message.content\n",
    "\n",
    "# Executing the prompt\n",
    "prompt = \"What's the formula for energy?\"\n",
    "answer = llm(prompt)\n",
    "print(answer)"
   ]
  },
  {
   "cell_type": "markdown",
   "id": "ecfa36b7",
   "metadata": {},
   "source": [
    "Sure, here's the formula for energy:\n",
    "\n",
    "**E = K + U**\n",
    "\n",
    "Where:\n",
    "\n",
    "* **E** is the energy in joules (J)\n",
    "* **K** is the kinetic energy in joules (J)\n",
    "* **U** is the potential energy in joules (J)\n",
    "\n",
    "**Kinetic energy (K)** is the energy an object possesses when it moves or is in motion. It is calculated as half the product of an object's mass (m) and its velocity (v) squared:\n",
    "\n",
    "**K = 1/2mv^2**\n",
    "\n",
    "**Potential energy (U)** is the energy an object possesses due to its position or configuration. It is calculated as the product of an object's mass, gravitational constant (g), and height or position above a reference point.\n",
    "\n",
    "**U = mgh**\n",
    "\n",
    "Where:\n",
    "\n",
    "* **m** is the mass in kilograms (kg)\n",
    "* **g** is the gravitational constant (9.8 m/s^2)\n",
    "* **h** is the height or position in meters (m)\n",
    "\n",
    "The formula shows that energy can be expressed as the sum of kinetic and potential energy. The kinetic energy is a measure of the object's ability to do work, while the potential energy is a measure of the object's ability to do work against a force."
   ]
  },
  {
   "cell_type": "code",
   "execution_count": null,
   "id": "c181e1db",
   "metadata": {},
   "outputs": [],
   "source": [
    "import os\n",
    "from huggingface_hub import login\n",
    "\n",
    "login(token=os.environ['HF_TOKEN'])"
   ]
  },
  {
   "cell_type": "markdown",
   "id": "7563e0cf",
   "metadata": {},
   "source": [
    "The token has not been saved to the git credentials helper. Pass `add_to_git_credential=True` in this function directly or `--add-to-git-credential` if using via `huggingface-cli` if you want to set the git credential as well.\n",
    "Token is valid (permission: fineGrained).\n",
    "Your token has been saved to /Users/chimgee/.cache/huggingface/token\n",
    "Login successful"
   ]
  },
  {
   "cell_type": "code",
   "execution_count": null,
   "id": "b6ceef03",
   "metadata": {},
   "outputs": [],
   "source": [
    "# Counting the number of completion tokens using AutoTokenizer\n",
    "# Import AutoTokenizer\n",
    "from transformers import AutoTokenizer, AutoModelForCausalLM\n",
    "\n",
    "# Set the tokenizer and the model\n",
    "tokenizer = AutoTokenizer.from_pretrained(\"google/gemma-2b\")\n",
    "model = AutoModelForCausalLM.from_pretrained(\"google/gemma-2b\")\n",
    "\n",
    "# Defining input sequence tokens\n",
    "answer=\"Hello\n",
    "input_ids = tokenizer(answer, return_tensors=\"pt\")\n",
    "\n",
    "# Calculating the number of tokens\n",
    "outputs = model.generate(**input_ids)\n",
    "completion_tokens = len(outputs[0]) - len(input_ids['input_ids'][0])\n",
    "print(f\"Number of completion tokens: {completion_tokens}\")"
   ]
  },
  {
   "cell_type": "code",
   "execution_count": null,
   "id": "5715367e",
   "metadata": {},
   "outputs": [],
   "source": [
    "# Counting the number of completion tokens using GemmaTokenizer\n",
    "# Import GemmaTokenizer\n",
    "from transformers import GemmaTokenizer, GemmaForCausalLM\n",
    "\n",
    "# Set the tokenizer and the model\n",
    "tokenizer = GemmaTokenizer.from_pretrained(\"google/gemma-2b\")\n",
    "model = GemmaForCausalLM.from_pretrained(\"google/gemma-2b\")\n",
    "\n",
    "# Defining input sequence tokens\n",
    "input_ids = tokenizer(answer, return_tensors=\"pt\")\n",
    "\n",
    "# Calculating the number of tokens\n",
    "outputs = model.generate(**input_ids)\n",
    "completion_tokens = len(outputs[0]) - len(input_ids['input_ids'][0])\n",
    "print(f\"Number of completion tokens: {completion_tokens}\")"
   ]
  }
 ],
 "metadata": {
  "kernelspec": {
   "display_name": "saturn (Python 3)",
   "language": "python",
   "name": "python3"
  },
  "language_info": {
   "codemirror_mode": {
    "name": "ipython",
    "version": 3
   },
   "file_extension": ".py",
   "mimetype": "text/x-python",
   "name": "python",
   "nbconvert_exporter": "python",
   "pygments_lexer": "ipython3",
   "version": "3.9.18"
  }
 },
 "nbformat": 4,
 "nbformat_minor": 5
}
