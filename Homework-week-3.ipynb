{
 "cells": [
  {
   "cell_type": "markdown",
   "id": "e48ce926-d3fb-4fec-94c6-a3046dcbdda7",
   "metadata": {},
   "source": [
    "### Q1 Getting the embeddings model"
   ]
  },
  {
   "cell_type": "code",
   "execution_count": 4,
   "id": "51ae1198-c237-488a-9272-57ad172f3a5d",
   "metadata": {},
   "outputs": [
    {
     "name": "stdout",
     "output_type": "stream",
     "text": [
      "Answer 1:  0.078222655\n"
     ]
    }
   ],
   "source": [
    "# Import libraries\n",
    "from sentence_transformers import SentenceTransformer\n",
    "\n",
    "# Get the model\n",
    "embedding_model = SentenceTransformer(\"multi-qa-distilbert-cos-v1\")\n",
    "\n",
    "# Define the question\n",
    "user_question = \"I just discovered the course. Can I still join it?\"\n",
    "\n",
    "# Create a vector\n",
    "q_vector = embedding_model.encode(user_question)\n",
    "\n",
    "print(\"Answer 1: \", q_vector[0])"
   ]
  },
  {
   "cell_type": "code",
   "execution_count": 5,
   "id": "79297ace-a052-4e0f-93ce-de92a59f6723",
   "metadata": {},
   "outputs": [],
   "source": [
    "import requests \n",
    "\n",
    "base_url = 'https://github.com/DataTalksClub/llm-zoomcamp/blob/main'\n",
    "relative_url = '03-vector-search/eval/documents-with-ids.json'\n",
    "docs_url = f'{base_url}/{relative_url}?raw=1'\n",
    "docs_response = requests.get(docs_url)\n",
    "documents = docs_response.json()"
   ]
  },
  {
   "cell_type": "code",
   "execution_count": null,
   "id": "f623c075-65c6-491c-9c1f-046f721e64b7",
   "metadata": {},
   "outputs": [],
   "source": []
  }
 ],
 "metadata": {
  "kernelspec": {
   "display_name": "Python 3 (ipykernel)",
   "language": "python",
   "name": "python3"
  },
  "language_info": {
   "codemirror_mode": {
    "name": "ipython",
    "version": 3
   },
   "file_extension": ".py",
   "mimetype": "text/x-python",
   "name": "python",
   "nbconvert_exporter": "python",
   "pygments_lexer": "ipython3",
   "version": "3.10.13"
  }
 },
 "nbformat": 4,
 "nbformat_minor": 5
}
