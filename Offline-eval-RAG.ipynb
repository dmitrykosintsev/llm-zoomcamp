{
 "cells": [
  {
   "cell_type": "markdown",
   "id": "c01a1120-009a-4b88-a86d-6967dc92681f",
   "metadata": {},
   "source": [
    "In this notebook, I follow the steps described in several videos from LLM Zoomcamp:\n",
    "- generating data: https://www.youtube.com/watch?v=yTO5sRw6x78&list=PL3MmuxUbc_hIB4fSqLy_0AfTjVLpgjV3R\n",
    "- cosine similarity: https://www.youtube.com/watch?v=LlXclbD3pms&list=PL3MmuxUbc_hIB4fSqLy_0AfTjVLpgjV3R\n",
    "- LLM-as-a-judge: https://www.youtube.com/watch?v=IB6jePK1s58&list=PL3MmuxUbc_hIB4fSqLy_0AfTjVLpgjV3R\n",
    "\n",
    "Used models:\n",
    "- Llama3.1:8B https://ollama.com/library/llama3.1\n",
    "- Qwen2:7B https://ollama.com/library/qwen2\n",
    "- Zephyr:7B: https://ollama.com/library/zephyr"
   ]
  },
  {
   "cell_type": "code",
   "execution_count": null,
   "id": "058e41c3-9108-489d-8126-c7ad8af4a3ee",
   "metadata": {},
   "outputs": [],
   "source": []
  }
 ],
 "metadata": {
  "kernelspec": {
   "display_name": "Python 3 (ipykernel)",
   "language": "python",
   "name": "python3"
  },
  "language_info": {
   "codemirror_mode": {
    "name": "ipython",
    "version": 3
   },
   "file_extension": ".py",
   "mimetype": "text/x-python",
   "name": "python",
   "nbconvert_exporter": "python",
   "pygments_lexer": "ipython3",
   "version": "3.12.4"
  }
 },
 "nbformat": 4,
 "nbformat_minor": 5
}
