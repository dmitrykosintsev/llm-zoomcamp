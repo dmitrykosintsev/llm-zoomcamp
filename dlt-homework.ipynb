{
 "cells": [
  {
   "cell_type": "markdown",
   "id": "dff38e69-9220-4d13-adc2-41338e1901d2",
   "metadata": {},
   "source": [
    "Install required packages"
   ]
  },
  {
   "cell_type": "code",
   "execution_count": null,
   "id": "3dfc5e20-2ef3-49fa-ba47-6084bab9b950",
   "metadata": {},
   "outputs": [],
   "source": [
    "%%capture\n",
    "!pip install dlt[lancedb]==0.5.1a0\n",
    "!pip install sentence-transformers"
   ]
  },
  {
   "cell_type": "markdown",
   "id": "69f347d5-0874-49d2-90f0-a1576d0af5f5",
   "metadata": {},
   "source": [
    "Create a dlt project with rest-api"
   ]
  },
  {
   "cell_type": "code",
   "execution_count": null,
   "id": "ebfa1b3d-c163-4c3c-a8c5-403dd7aa8017",
   "metadata": {},
   "outputs": [],
   "source": [
    "!yes | dlt init rest_api lancedb"
   ]
  },
  {
   "cell_type": "markdown",
   "id": "bcf75cfe-2e32-4fce-a840-0d678246b048",
   "metadata": {},
   "source": [
    "Pass the credentials"
   ]
  },
  {
   "cell_type": "code",
   "execution_count": null,
   "id": "2b2a7472-6329-4175-9319-c1393dfe6f4f",
   "metadata": {},
   "outputs": [],
   "source": [
    "import os\n",
    "from google.colab import userdata\n",
    "\n",
    "os.environ[\"SOURCES__REST_API__NOTION__API_KEY\"] = userdata.get(\"SOURCES__REST_API__NOTION__API_KEY\")\n",
    "\n",
    "os.environ[\"DESTINATION__LANCEDB__EMBEDDING_MODEL_PROVIDER\"] = \"sentence-transformers\"\n",
    "os.environ[\"DESTINATION__LANCEDB__EMBEDDING_MODEL\"] = \"all-MiniLM-L6-v2\"\n",
    "\n",
    "os.environ[\"DESTINATION__LANCEDB__CREDENTIALS__URI\"] = \".lancedb\""
   ]
  },
  {
   "cell_type": "markdown",
   "id": "ae20e1e3-be40-44b5-bcc1-77ca296b63e8",
   "metadata": {},
   "source": [
    "Import necessary modules"
   ]
  },
  {
   "cell_type": "code",
   "execution_count": null,
   "id": "e52777ae-7415-446d-aced-57441687b538",
   "metadata": {},
   "outputs": [],
   "source": [
    "import dlt\n",
    "from rest_api import RESTAPIConfig, rest_api_source\n",
    "\n",
    "from dlt.sources.helpers.rest_client.paginators import BasePaginator, JSONResponsePaginator\n",
    "from dlt.sources.helpers.requests import Response, Request\n",
    "\n",
    "from dlt.destinations.adapters import lancedb_adapter"
   ]
  },
  {
   "cell_type": "markdown",
   "id": "d0a044a4-85a3-4062-8b6a-9f76c9586b39",
   "metadata": {},
   "source": [
    "Configure the API: change \"workshop\" to \"homework\" in \"query\""
   ]
  },
  {
   "cell_type": "code",
   "execution_count": null,
   "id": "194c9485-6df1-4d6b-a6ee-355d6123f961",
   "metadata": {},
   "outputs": [],
   "source": [
    "RESTAPIConfig = {\n",
    "     \"client\": {\n",
    "         \"base_url\": \"https://api.notion.com/v1/\",\n",
    "         \"auth\": {\n",
    "             \"token\": dlt.secrets[\"sources.rest_api.notion.api_key\"]\n",
    "         },\n",
    "         \"headers\":{\n",
    "         \"Content-Type\": \"application/json\",\n",
    "         \"Notion-Version\": \"2022-06-28\"\n",
    "         }\n",
    "     },\n",
    "     \"resources\": [\n",
    "         {\n",
    "             \"name\": \"search\",\n",
    "             \"endpoint\": {\n",
    "                 \"path\": \"search\",\n",
    "                 \"method\": \"POST\",\n",
    "                 \"paginator\": PostBodyPaginator(),\n",
    "                 \"json\": {\n",
    "                     \"query\": \"homework\",\n",
    "                     \"sort\": {\n",
    "                         \"direction\": \"ascending\",\n",
    "                         \"timestamp\": \"last_edited_time\"\n",
    "                     }\n",
    "                 },\n",
    "                 \"data_selector\": \"results\"\n",
    "             }\n",
    "         },\n",
    "         {\n",
    "             \"name\": \"page_content\",\n",
    "             \"endpoint\": {\n",
    "                 \"path\": \"blocks/{page_id}/children\",\n",
    "                 \"paginator\": JSONResponsePaginator(),\n",
    "                 \"params\": {\n",
    "                     \"page_id\": {\n",
    "                         \"type\": \"resolve\",\n",
    "                         \"resource\": \"search\",\n",
    "                         \"field\": \"id\"\n",
    "                     }\n",
    "                 },\n",
    "             }\n",
    "         }\n",
    "     ]\n",
    " }"
   ]
  },
  {
   "cell_type": "markdown",
   "id": "f563bdf1-630a-4e46-824d-6b701354affa",
   "metadata": {},
   "source": [
    "Run the pipeline"
   ]
  },
  {
   "cell_type": "code",
   "execution_count": null,
   "id": "c2a01a3a-e786-4a63-9932-625ceafcea8b",
   "metadata": {},
   "outputs": [],
   "source": [
    "from datetime import datetime, timezone\n",
    "\n",
    "# Class for custom paginator\n",
    "class PostBodyPaginator(BasePaginator):\n",
    "    def __init__(self):\n",
    "        super().__init__()\n",
    "        self.cursor = None\n",
    "\n",
    "    def update_state(self, response: Response) -> None:\n",
    "        # Assuming the API returns an empty list when no more data is available\n",
    "        if not response.json():\n",
    "            self._has_next_page = False\n",
    "        else:\n",
    "            self.cursor = response.json().get(\"next_cursor\")\n",
    "            if self.cursor is None:\n",
    "                self._has_next_page = False\n",
    "\n",
    "    def update_request(self, request: Request) -> None:\n",
    "        if request.json is None:\n",
    "            request.json = {}\n",
    "\n",
    "        # Add the cursor to the request body\n",
    "        request.json[\"start_cursor\"] = self.cursor\n",
    "\n",
    "@dlt.resource(name=\"employee_handbook\")\n",
    "\n",
    "\n",
    "def rest_api_notion_resource():\n",
    "    notion_config: RESTAPIConfig = {\n",
    "        \"client\": {\n",
    "            \"base_url\": \"https://api.notion.com/v1/\",\n",
    "            \"auth\": {\n",
    "                \"token\": dlt.secrets[\"sources.rest_api.notion.api_key\"]\n",
    "            },\n",
    "            \"headers\":{\n",
    "            \"Content-Type\": \"application/json\",\n",
    "            \"Notion-Version\": \"2022-06-28\"\n",
    "            }\n",
    "        },\n",
    "        \"resources\": [\n",
    "            {\n",
    "                \"name\": \"search\",\n",
    "                \"endpoint\": {\n",
    "                    \"path\": \"search\",\n",
    "                    \"method\": \"POST\",\n",
    "                    \"paginator\": PostBodyPaginator(),\n",
    "                    \"json\": {\n",
    "                        \"query\": \"homework\",\n",
    "                        \"sort\": {\n",
    "                            \"direction\": \"ascending\",\n",
    "                            \"timestamp\": \"last_edited_time\"\n",
    "                        }\n",
    "                    },\n",
    "                    \"data_selector\": \"results\"\n",
    "                }\n",
    "            },\n",
    "            {\n",
    "                \"name\": \"page_content\",\n",
    "                \"endpoint\": {\n",
    "                    \"path\": \"blocks/{page_id}/children\",\n",
    "                    \"paginator\": JSONResponsePaginator(),\n",
    "                    \"params\": {\n",
    "                        \"page_id\": {\n",
    "                            \"type\": \"resolve\",\n",
    "                            \"resource\": \"search\",\n",
    "                            \"field\": \"id\"\n",
    "                        }\n",
    "                    },\n",
    "                }\n",
    "            }\n",
    "        ]\n",
    "    }\n",
    "\n",
    "    yield from rest_api_source(notion_config,name=\"employee_handbook\")\n",
    "\n",
    "# Extract relevant content\n",
    "def extract_page_content(response):\n",
    "    block_id = response[\"id\"]\n",
    "    last_edited_time = response[\"last_edited_time\"]\n",
    "    block_type = response.get(\"type\", \"Not paragraph\")\n",
    "    if block_type != \"paragraph\":\n",
    "        content = \"\"\n",
    "    else:\n",
    "        try:\n",
    "            content = response[\"paragraph\"][\"rich_text\"][0][\"plain_text\"]\n",
    "        except IndexError:\n",
    "            content = \"\"\n",
    "    return {\n",
    "        \"block_id\": block_id,\n",
    "        \"block_type\": block_type,\n",
    "        \"content\": content,\n",
    "        \"last_edited_time\": last_edited_time,\n",
    "        \"inserted_at_time\": datetime.now(timezone.utc)\n",
    "    }\n",
    "\n",
    "@dlt.resource(\n",
    "    name=\"employee_handbook\",\n",
    "    write_disposition=\"merge\",\n",
    "    primary_key=\"block_id\",\n",
    "    columns={\"last_edited_time\":{\"dedup_sort\":\"desc\"}}\n",
    "    )\n",
    "\n",
    "\n",
    "def rest_api_notion_incremental(\n",
    "    last_edited_time = dlt.sources.incremental(\"last_edited_time\", initial_value=\"2024-06-26T08:16:00.000Z\",primary_key=(\"block_id\"))\n",
    "):\n",
    "    # last_value = last_edited_time.last_value\n",
    "    # print(last_value)\n",
    "\n",
    "    for block in rest_api_notion_resource.add_map(extract_page_content):\n",
    "        if not(len(block[\"content\"])):\n",
    "            continue\n",
    "        yield block\n",
    "\n",
    "def load_notion() -> None:\n",
    "    pipeline = dlt.pipeline(\n",
    "        pipeline_name=\"company_policies\",\n",
    "        destination=\"lancedb\",\n",
    "        dataset_name=\"notion_pages\",\n",
    "        # full_refresh=True\n",
    "    )\n",
    "\n",
    "    load_info = pipeline.run(\n",
    "        lancedb_adapter(\n",
    "            rest_api_notion_incremental,\n",
    "            embed=\"content\"\n",
    "        ),\n",
    "        table_name=\"employee_handbook\",\n",
    "        write_disposition=\"merge\"\n",
    "    )\n",
    "    print(load_info)\n",
    "\n",
    "load_notion()"
   ]
  },
  {
   "cell_type": "markdown",
   "id": "b9def734-ad01-4c36-b197-f6eed8c06441",
   "metadata": {},
   "source": [
    "Create a new lanceDB table"
   ]
  },
  {
   "cell_type": "code",
   "execution_count": null,
   "id": "a725561d-bdfb-4e77-9c3d-fd6ba38d7fe4",
   "metadata": {},
   "outputs": [],
   "source": [
    "import lancedb\n",
    "\n",
    "db = lancedb.connect(\".lancedb\")\n",
    "dbtable = db.open_table(\"notion_pages__homework\")\n",
    "\n",
    "dbtable.to_pandas()"
   ]
  }
 ],
 "metadata": {
  "kernelspec": {
   "display_name": "Python 3 (ipykernel)",
   "language": "python",
   "name": "python3"
  },
  "language_info": {
   "codemirror_mode": {
    "name": "ipython",
    "version": 3
   },
   "file_extension": ".py",
   "mimetype": "text/x-python",
   "name": "python",
   "nbconvert_exporter": "python",
   "pygments_lexer": "ipython3",
   "version": "3.12.4"
  }
 },
 "nbformat": 4,
 "nbformat_minor": 5
}
