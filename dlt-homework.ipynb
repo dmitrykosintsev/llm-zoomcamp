{
  "cells": [
    {
      "cell_type": "markdown",
      "metadata": {
        "id": "view-in-github",
        "colab_type": "text"
      },
      "source": [
        "<a href=\"https://colab.research.google.com/github/dmitrykosintsev/llm-zoomcamp/blob/main/dlt-homework.ipynb\" target=\"_parent\"><img src=\"https://colab.research.google.com/assets/colab-badge.svg\" alt=\"Open In Colab\"/></a>"
      ]
    },
    {
      "cell_type": "markdown",
      "id": "dff38e69-9220-4d13-adc2-41338e1901d2",
      "metadata": {
        "id": "dff38e69-9220-4d13-adc2-41338e1901d2"
      },
      "source": [
        "Install required packages"
      ]
    },
    {
      "cell_type": "code",
      "execution_count": 1,
      "id": "3dfc5e20-2ef3-49fa-ba47-6084bab9b950",
      "metadata": {
        "id": "3dfc5e20-2ef3-49fa-ba47-6084bab9b950"
      },
      "outputs": [],
      "source": [
        "%%capture\n",
        "!pip install dlt[lancedb]==0.5.1a0\n",
        "!pip install sentence-transformers"
      ]
    },
    {
      "cell_type": "markdown",
      "id": "69f347d5-0874-49d2-90f0-a1576d0af5f5",
      "metadata": {
        "id": "69f347d5-0874-49d2-90f0-a1576d0af5f5"
      },
      "source": [
        "Create a dlt project with rest-api"
      ]
    },
    {
      "cell_type": "code",
      "execution_count": 2,
      "id": "ebfa1b3d-c163-4c3c-a8c5-403dd7aa8017",
      "metadata": {
        "id": "ebfa1b3d-c163-4c3c-a8c5-403dd7aa8017",
        "outputId": "234be883-c390-4adc-f472-6c6d7fb90b3d",
        "colab": {
          "base_uri": "https://localhost:8080/"
        }
      },
      "outputs": [
        {
          "output_type": "stream",
          "name": "stdout",
          "text": [
            "Looking up the init scripts in \u001b[1mhttps://github.com/dlt-hub/verified-sources.git\u001b[0m...\n",
            "No files to update, exiting\n"
          ]
        }
      ],
      "source": [
        "!yes | dlt init rest_api lancedb"
      ]
    },
    {
      "cell_type": "markdown",
      "id": "bcf75cfe-2e32-4fce-a840-0d678246b048",
      "metadata": {
        "id": "bcf75cfe-2e32-4fce-a840-0d678246b048"
      },
      "source": [
        "Pass the credentials"
      ]
    },
    {
      "cell_type": "code",
      "execution_count": 1,
      "id": "2b2a7472-6329-4175-9319-c1393dfe6f4f",
      "metadata": {
        "id": "2b2a7472-6329-4175-9319-c1393dfe6f4f"
      },
      "outputs": [],
      "source": [
        "import os\n",
        "from google.colab import userdata\n",
        "\n",
        "os.environ[\"SOURCES__REST_API__NOTION__API_KEY\"] = userdata.get(\"SOURCES__REST_API__NOTION__API_KEY\")\n",
        "\n",
        "os.environ[\"DESTINATION__LANCEDB__EMBEDDING_MODEL_PROVIDER\"] = \"sentence-transformers\"\n",
        "os.environ[\"DESTINATION__LANCEDB__EMBEDDING_MODEL\"] = \"all-MiniLM-L6-v2\"\n",
        "\n",
        "os.environ[\"DESTINATION__LANCEDB__CREDENTIALS__URI\"] = \".lancedb\""
      ]
    },
    {
      "cell_type": "markdown",
      "id": "ae20e1e3-be40-44b5-bcc1-77ca296b63e8",
      "metadata": {
        "id": "ae20e1e3-be40-44b5-bcc1-77ca296b63e8"
      },
      "source": [
        "Import necessary modules"
      ]
    },
    {
      "cell_type": "code",
      "execution_count": 2,
      "id": "e52777ae-7415-446d-aced-57441687b538",
      "metadata": {
        "id": "e52777ae-7415-446d-aced-57441687b538"
      },
      "outputs": [],
      "source": [
        "import dlt\n",
        "from rest_api import RESTAPIConfig, rest_api_source\n",
        "\n",
        "from dlt.sources.helpers.rest_client.paginators import BasePaginator, JSONResponsePaginator\n",
        "from dlt.sources.helpers.requests import Response, Request\n",
        "\n",
        "from dlt.destinations.adapters import lancedb_adapter"
      ]
    },
    {
      "cell_type": "markdown",
      "id": "d0a044a4-85a3-4062-8b6a-9f76c9586b39",
      "metadata": {
        "id": "d0a044a4-85a3-4062-8b6a-9f76c9586b39"
      },
      "source": [
        "Configure the API: change \"workshop\" to \"homework\" in \"query\""
      ]
    },
    {
      "cell_type": "code",
      "execution_count": null,
      "id": "194c9485-6df1-4d6b-a6ee-355d6123f961",
      "metadata": {
        "id": "194c9485-6df1-4d6b-a6ee-355d6123f961"
      },
      "outputs": [],
      "source": [
        "RESTAPIConfig = {\n",
        "     \"client\": {\n",
        "         \"base_url\": \"https://api.notion.com/v1/\",\n",
        "         \"auth\": {\n",
        "             \"token\": dlt.secrets[\"sources.rest_api.notion.api_key\"]\n",
        "         },\n",
        "         \"headers\":{\n",
        "         \"Content-Type\": \"application/json\",\n",
        "         \"Notion-Version\": \"2022-06-28\"\n",
        "         }\n",
        "     },\n",
        "     \"resources\": [\n",
        "         {\n",
        "             \"name\": \"search\",\n",
        "             \"endpoint\": {\n",
        "                 \"path\": \"search\",\n",
        "                 \"method\": \"POST\",\n",
        "                 \"paginator\": PostBodyPaginator(),\n",
        "                 \"json\": {\n",
        "                     \"query\": \"homework\",\n",
        "                     \"sort\": {\n",
        "                         \"direction\": \"ascending\",\n",
        "                         \"timestamp\": \"last_edited_time\"\n",
        "                     }\n",
        "                 },\n",
        "                 \"data_selector\": \"results\"\n",
        "             }\n",
        "         },\n",
        "         {\n",
        "             \"name\": \"page_content\",\n",
        "             \"endpoint\": {\n",
        "                 \"path\": \"blocks/{page_id}/children\",\n",
        "                 \"paginator\": JSONResponsePaginator(),\n",
        "                 \"params\": {\n",
        "                     \"page_id\": {\n",
        "                         \"type\": \"resolve\",\n",
        "                         \"resource\": \"search\",\n",
        "                         \"field\": \"id\"\n",
        "                     }\n",
        "                 },\n",
        "             }\n",
        "         }\n",
        "     ]\n",
        " }"
      ]
    },
    {
      "cell_type": "markdown",
      "id": "f563bdf1-630a-4e46-824d-6b701354affa",
      "metadata": {
        "id": "f563bdf1-630a-4e46-824d-6b701354affa"
      },
      "source": [
        "Run the pipeline"
      ]
    },
    {
      "cell_type": "code",
      "execution_count": 3,
      "id": "c2a01a3a-e786-4a63-9932-625ceafcea8b",
      "metadata": {
        "id": "c2a01a3a-e786-4a63-9932-625ceafcea8b",
        "outputId": "33170a62-ac89-4e9b-ccb7-d7268833f528",
        "colab": {
          "base_uri": "https://localhost:8080/"
        }
      },
      "outputs": [
        {
          "output_type": "stream",
          "name": "stdout",
          "text": [
            "Pipeline company_policies load step completed in ---\n",
            "0 load package(s) were loaded to destination LanceDB and into dataset None\n",
            "The LanceDB destination used <dlt.destinations.impl.lancedb.configuration.LanceDBCredentials object at 0x7ca2922d8400> location to store data\n"
          ]
        }
      ],
      "source": [
        "from datetime import datetime, timezone\n",
        "\n",
        "# Class for custom paginator\n",
        "class PostBodyPaginator(BasePaginator):\n",
        "    def __init__(self):\n",
        "        super().__init__()\n",
        "        self.cursor = None\n",
        "\n",
        "    def update_state(self, response: Response) -> None:\n",
        "        # Assuming the API returns an empty list when no more data is available\n",
        "        if not response.json():\n",
        "            self._has_next_page = False\n",
        "        else:\n",
        "            self.cursor = response.json().get(\"next_cursor\")\n",
        "            if self.cursor is None:\n",
        "                self._has_next_page = False\n",
        "\n",
        "    def update_request(self, request: Request) -> None:\n",
        "        if request.json is None:\n",
        "            request.json = {}\n",
        "\n",
        "        # Add the cursor to the request body\n",
        "        request.json[\"start_cursor\"] = self.cursor\n",
        "\n",
        "@dlt.resource(name=\"homework\")\n",
        "\n",
        "\n",
        "def rest_api_notion_resource():\n",
        "    notion_config: RESTAPIConfig = {\n",
        "        \"client\": {\n",
        "            \"base_url\": \"https://api.notion.com/v1/\",\n",
        "            \"auth\": {\n",
        "                \"token\": dlt.secrets[\"sources.rest_api.notion.api_key\"]\n",
        "            },\n",
        "            \"headers\":{\n",
        "            \"Content-Type\": \"application/json\",\n",
        "            \"Notion-Version\": \"2022-06-28\"\n",
        "            }\n",
        "        },\n",
        "        \"resources\": [\n",
        "            {\n",
        "                \"name\": \"search\",\n",
        "                \"endpoint\": {\n",
        "                    \"path\": \"search\",\n",
        "                    \"method\": \"POST\",\n",
        "                    \"paginator\": PostBodyPaginator(),\n",
        "                    \"json\": {\n",
        "                        \"query\": \"homework\",\n",
        "                        \"sort\": {\n",
        "                            \"direction\": \"ascending\",\n",
        "                            \"timestamp\": \"last_edited_time\"\n",
        "                        }\n",
        "                    },\n",
        "                    \"data_selector\": \"results\"\n",
        "                }\n",
        "            },\n",
        "            {\n",
        "                \"name\": \"page_content\",\n",
        "                \"endpoint\": {\n",
        "                    \"path\": \"blocks/{page_id}/children\",\n",
        "                    \"paginator\": JSONResponsePaginator(),\n",
        "                    \"params\": {\n",
        "                        \"page_id\": {\n",
        "                            \"type\": \"resolve\",\n",
        "                            \"resource\": \"search\",\n",
        "                            \"field\": \"id\"\n",
        "                        }\n",
        "                    },\n",
        "                }\n",
        "            }\n",
        "        ]\n",
        "    }\n",
        "\n",
        "    yield from rest_api_source(notion_config,name=\"homework\")\n",
        "\n",
        "# Extract relevant content\n",
        "def extract_page_content(response):\n",
        "    block_id = response[\"id\"]\n",
        "    last_edited_time = response[\"last_edited_time\"]\n",
        "    block_type = response.get(\"type\", \"Not paragraph\")\n",
        "    if block_type != \"paragraph\":\n",
        "        content = \"\"\n",
        "    else:\n",
        "        try:\n",
        "            content = response[\"paragraph\"][\"rich_text\"][0][\"plain_text\"]\n",
        "        except IndexError:\n",
        "            content = \"\"\n",
        "    return {\n",
        "        \"block_id\": block_id,\n",
        "        \"block_type\": block_type,\n",
        "        \"content\": content,\n",
        "        \"last_edited_time\": last_edited_time,\n",
        "        \"inserted_at_time\": datetime.now(timezone.utc)\n",
        "    }\n",
        "\n",
        "@dlt.resource(\n",
        "    name=\"homework\",\n",
        "    write_disposition=\"merge\",\n",
        "    primary_key=\"block_id\",\n",
        "    columns={\"last_edited_time\":{\"dedup_sort\":\"desc\"}}\n",
        "    )\n",
        "\n",
        "\n",
        "def rest_api_notion_incremental(\n",
        "    last_edited_time = dlt.sources.incremental(\"last_edited_time\", initial_value=\"2024-06-26T08:16:00.000Z\",primary_key=(\"block_id\"))\n",
        "):\n",
        "    # last_value = last_edited_time.last_value\n",
        "    # print(last_value)\n",
        "\n",
        "    for block in rest_api_notion_resource.add_map(extract_page_content):\n",
        "        if not(len(block[\"content\"])):\n",
        "            continue\n",
        "        yield block\n",
        "\n",
        "def load_notion() -> None:\n",
        "    pipeline = dlt.pipeline(\n",
        "        pipeline_name=\"company_policies\",\n",
        "        destination=\"lancedb\",\n",
        "        dataset_name=\"notion_pages\",\n",
        "        # full_refresh=True\n",
        "    )\n",
        "\n",
        "    load_info = pipeline.run(\n",
        "        lancedb_adapter(\n",
        "            rest_api_notion_incremental,\n",
        "            embed=\"content\"\n",
        "        ),\n",
        "        table_name=\"homework\",\n",
        "        write_disposition=\"merge\"\n",
        "    )\n",
        "    print(load_info)\n",
        "\n",
        "load_notion()"
      ]
    },
    {
      "cell_type": "markdown",
      "id": "b9def734-ad01-4c36-b197-f6eed8c06441",
      "metadata": {
        "id": "b9def734-ad01-4c36-b197-f6eed8c06441"
      },
      "source": [
        "Create a new lanceDB table"
      ]
    },
    {
      "cell_type": "code",
      "execution_count": 4,
      "id": "a725561d-bdfb-4e77-9c3d-fd6ba38d7fe4",
      "metadata": {
        "id": "a725561d-bdfb-4e77-9c3d-fd6ba38d7fe4",
        "outputId": "334b1ea9-694d-4482-8d43-f0fa2a296aff",
        "colab": {
          "base_uri": "https://localhost:8080/",
          "height": 878
        }
      },
      "outputs": [
        {
          "output_type": "execute_result",
          "data": {
            "text/plain": [
              "                                    id__  \\\n",
              "0   c69f1ecf-7b02-5810-8286-3f42659ae9d4   \n",
              "1   f2c18ac0-50f5-5b72-a871-dc5a46780353   \n",
              "2   4553193e-c655-54df-9a33-cfc570bf34d0   \n",
              "3   791be1a1-6c67-530d-87ab-bd9912500ea5   \n",
              "4   a83497f4-922c-5d62-bab1-53804e93c811   \n",
              "5   434b71e9-a11a-519d-a9fe-e3ade78d47d6   \n",
              "6   17816363-54b7-5ba7-b8d5-06d871a25414   \n",
              "7   2a434cf9-09d9-5514-a88b-02977f2f953e   \n",
              "8   5f9384fa-7f98-5f52-a06e-05b05f42f69a   \n",
              "9   42af72f6-9db7-54a2-87b2-d466169078ff   \n",
              "10  8bfc36ce-cdb0-5792-bd70-d12ff22fc227   \n",
              "11  b1737a97-6dca-564c-a169-78e306a5e124   \n",
              "12  896f7ed8-e918-54f3-a7b8-565d53d6d22b   \n",
              "13  3557e3dd-de5b-51b9-bdee-b53ba588ed60   \n",
              "14  c51f99bf-5057-572e-bf9e-25dc03014c79   \n",
              "15  0317522c-a6db-59e8-ba5f-5ff0dc960d2e   \n",
              "16  4d0eb4d7-f0ad-517c-8165-7eb7932ea0ed   \n",
              "\n",
              "                                             vector__  \\\n",
              "0   [-0.024265623, 0.04746083, -0.011796438, 0.063...   \n",
              "1   [-0.049661573, 0.10853516, -0.0097625945, -0.0...   \n",
              "2   [-0.06316319, 0.17331506, 0.025351718, -0.0191...   \n",
              "3   [-0.10974315, 0.10586075, 0.0032906067, -0.021...   \n",
              "4   [0.052423306, -0.06457594, 0.065863, 0.0145438...   \n",
              "5   [0.0005233448, -0.054883398, 0.043573365, -0.0...   \n",
              "6   [0.03802632, -0.021509668, 0.0475278, 0.064706...   \n",
              "7   [-0.058588073, -0.07540443, 0.033775173, 0.009...   \n",
              "8   [-0.01359926, 0.004753031, 0.024835143, 0.0159...   \n",
              "9   [0.032060914, 0.02424462, 0.008471355, 0.03179...   \n",
              "10  [-0.013155272, 0.008382475, 0.017044408, 0.051...   \n",
              "11  [0.027987445, 0.06734361, 0.039806426, 0.00774...   \n",
              "12  [0.03252609, 0.008159482, 0.084435634, 0.05564...   \n",
              "13  [-0.0073140753, 0.01471069, -0.019091198, 0.02...   \n",
              "14  [-0.031538416, 0.034259938, -0.027282655, 0.02...   \n",
              "15  [-0.017366918, 0.06079061, 0.015769996, -0.014...   \n",
              "16  [0.033655427, 0.035742376, 0.039310906, 0.0037...   \n",
              "\n",
              "                                block_id block_type  \\\n",
              "0   a8196881-ae94-4767-8767-92fe1a327d24  paragraph   \n",
              "1   31fcbf26-2ca5-468a-8af8-d7eb4c2db8c8  paragraph   \n",
              "2   da7721fd-3d0f-4c04-bc5e-825ad60bed1c  paragraph   \n",
              "3   ff36dcf3-5faa-40b4-ad8e-92fdc952201e  paragraph   \n",
              "4   a1ff9697-4bb6-4f1e-b464-dda296dbd307  paragraph   \n",
              "5   e4ec9f4d-b687-4c28-a80d-985bfabcc2ba  paragraph   \n",
              "6   e6e550dc-b59e-4928-abd7-07eace948681  paragraph   \n",
              "7   a269d0ca-ce14-481b-a5f4-9192d6840d6e  paragraph   \n",
              "8   5b65f3e7-0a37-429a-818d-f99b53755ebd  paragraph   \n",
              "9   b27f7d80-f2f1-460e-aa0c-b8e770cf050a  paragraph   \n",
              "10  cf2c7276-9d6d-4611-97ef-e7707a668176  paragraph   \n",
              "11  79fd88bb-894c-4db3-961e-f2e9fa571399  paragraph   \n",
              "12  0b5f3660-7867-41ea-ae25-95585c3bb34e  paragraph   \n",
              "13  3153e9cf-44bf-4ec1-b835-67d37731f9bc  paragraph   \n",
              "14  b9d67165-1028-4edc-841b-fe2fd4cf0cf7  paragraph   \n",
              "15  72d2f585-a1b4-461e-ad88-45d9e3346425  paragraph   \n",
              "16  b1a9a976-eef2-4c99-9f57-3e5adb873d1f  paragraph   \n",
              "\n",
              "                                              content  \\\n",
              "0   We owe our success to our employees. To show o...   \n",
              "1   We want to ensure that private information abo...   \n",
              "2   Employee health is important to us. We don’t d...   \n",
              "3   Our company is dedicated to maintaining a safe...   \n",
              "4   If your job doesn’t require you to be present ...   \n",
              "5   Remote working refers to working from a non-of...   \n",
              "6   There are some expenses that we will pay direc...   \n",
              "7   Our company operates between 9 a.m. to 7 p.m. ...   \n",
              "8   In this section, we are going to be covering i...   \n",
              "9   Our company observes the following holidays: N...   \n",
              "10  These holidays are considered “off-days” for m...   \n",
              "11  Employees who are unable to work due to illnes...   \n",
              "12  Losing a loved one is traumatizing. If this ha...   \n",
              "13  In accordance with German law, we offer a comp...   \n",
              "14  We recognize the vital role that fathers and p...   \n",
              "15  Our company’s official dress code is Business ...   \n",
              "16  If you want to invite a visitor to our offices...   \n",
              "\n",
              "            last_edited_time                 inserted_at_time  \\\n",
              "0  2024-07-05 22:34:00+00:00 2024-07-17 22:21:52.854092+00:00   \n",
              "1  2024-07-05 22:38:00+00:00 2024-07-17 22:21:52.857706+00:00   \n",
              "2  2024-07-05 22:52:00+00:00 2024-07-17 22:21:52.857925+00:00   \n",
              "3  2024-07-05 22:52:00+00:00 2024-07-17 22:21:52.858093+00:00   \n",
              "4  2024-07-05 22:52:00+00:00 2024-07-17 22:21:52.858280+00:00   \n",
              "5  2024-07-05 22:52:00+00:00 2024-07-17 22:21:52.858473+00:00   \n",
              "6  2024-07-05 22:52:00+00:00 2024-07-17 22:21:52.858639+00:00   \n",
              "7  2024-07-05 22:52:00+00:00 2024-07-17 22:21:52.858804+00:00   \n",
              "8  2024-07-05 23:33:00+00:00 2024-07-17 22:21:52.858973+00:00   \n",
              "9  2024-07-05 22:52:00+00:00 2024-07-17 22:21:52.859146+00:00   \n",
              "10 2024-07-05 22:52:00+00:00 2024-07-17 22:21:52.859317+00:00   \n",
              "11 2024-07-05 22:52:00+00:00 2024-07-17 22:21:52.859481+00:00   \n",
              "12 2024-07-05 22:52:00+00:00 2024-07-17 22:21:52.859639+00:00   \n",
              "13 2024-07-05 22:52:00+00:00 2024-07-17 22:21:52.859795+00:00   \n",
              "14 2024-07-05 22:52:00+00:00 2024-07-17 22:21:52.859952+00:00   \n",
              "15 2024-07-05 22:54:00+00:00 2024-07-17 22:21:52.860108+00:00   \n",
              "16 2024-07-05 22:56:00+00:00 2024-07-17 22:21:52.860313+00:00   \n",
              "\n",
              "          _dlt_load_id         _dlt_id  \n",
              "0   1721254912.1069021  Zj+0pZiOHk8Ihg  \n",
              "1   1721254912.1069021  baYU2RtGAcKi7A  \n",
              "2   1721254912.1069021  JIcjfEXlRMhzTw  \n",
              "3   1721254912.1069021  z1t1vZo3TivfwA  \n",
              "4   1721254912.1069021  gXuzrrOaioT7Og  \n",
              "5   1721254912.1069021  kUPW23IymIbR4A  \n",
              "6   1721254912.1069021  1h9P9WdKX8rK4w  \n",
              "7   1721254912.1069021  H1lIYr0cUkCPFQ  \n",
              "8   1721254912.1069021  5vG1uTashiGAXw  \n",
              "9   1721254912.1069021  wyHv60aKBi5Fmg  \n",
              "10  1721254912.1069021  Q6Bcv4pAv0F5gA  \n",
              "11  1721254912.1069021  kVHvQGuOLEDMXQ  \n",
              "12  1721254912.1069021  xHR6Ucufec2jQg  \n",
              "13  1721254912.1069021  POJXIWWvqiEhzg  \n",
              "14  1721254912.1069021  wLhk3kDYDvarDw  \n",
              "15  1721254912.1069021  0vRgSYEAsw5Frw  \n",
              "16  1721254912.1069021  kAb0ZwCaJr26cQ  "
            ],
            "text/html": [
              "\n",
              "  <div id=\"df-39991a97-e483-41b0-9852-d4542f47534e\" class=\"colab-df-container\">\n",
              "    <div>\n",
              "<style scoped>\n",
              "    .dataframe tbody tr th:only-of-type {\n",
              "        vertical-align: middle;\n",
              "    }\n",
              "\n",
              "    .dataframe tbody tr th {\n",
              "        vertical-align: top;\n",
              "    }\n",
              "\n",
              "    .dataframe thead th {\n",
              "        text-align: right;\n",
              "    }\n",
              "</style>\n",
              "<table border=\"1\" class=\"dataframe\">\n",
              "  <thead>\n",
              "    <tr style=\"text-align: right;\">\n",
              "      <th></th>\n",
              "      <th>id__</th>\n",
              "      <th>vector__</th>\n",
              "      <th>block_id</th>\n",
              "      <th>block_type</th>\n",
              "      <th>content</th>\n",
              "      <th>last_edited_time</th>\n",
              "      <th>inserted_at_time</th>\n",
              "      <th>_dlt_load_id</th>\n",
              "      <th>_dlt_id</th>\n",
              "    </tr>\n",
              "  </thead>\n",
              "  <tbody>\n",
              "    <tr>\n",
              "      <th>0</th>\n",
              "      <td>c69f1ecf-7b02-5810-8286-3f42659ae9d4</td>\n",
              "      <td>[-0.024265623, 0.04746083, -0.011796438, 0.063...</td>\n",
              "      <td>a8196881-ae94-4767-8767-92fe1a327d24</td>\n",
              "      <td>paragraph</td>\n",
              "      <td>We owe our success to our employees. To show o...</td>\n",
              "      <td>2024-07-05 22:34:00+00:00</td>\n",
              "      <td>2024-07-17 22:21:52.854092+00:00</td>\n",
              "      <td>1721254912.1069021</td>\n",
              "      <td>Zj+0pZiOHk8Ihg</td>\n",
              "    </tr>\n",
              "    <tr>\n",
              "      <th>1</th>\n",
              "      <td>f2c18ac0-50f5-5b72-a871-dc5a46780353</td>\n",
              "      <td>[-0.049661573, 0.10853516, -0.0097625945, -0.0...</td>\n",
              "      <td>31fcbf26-2ca5-468a-8af8-d7eb4c2db8c8</td>\n",
              "      <td>paragraph</td>\n",
              "      <td>We want to ensure that private information abo...</td>\n",
              "      <td>2024-07-05 22:38:00+00:00</td>\n",
              "      <td>2024-07-17 22:21:52.857706+00:00</td>\n",
              "      <td>1721254912.1069021</td>\n",
              "      <td>baYU2RtGAcKi7A</td>\n",
              "    </tr>\n",
              "    <tr>\n",
              "      <th>2</th>\n",
              "      <td>4553193e-c655-54df-9a33-cfc570bf34d0</td>\n",
              "      <td>[-0.06316319, 0.17331506, 0.025351718, -0.0191...</td>\n",
              "      <td>da7721fd-3d0f-4c04-bc5e-825ad60bed1c</td>\n",
              "      <td>paragraph</td>\n",
              "      <td>Employee health is important to us. We don’t d...</td>\n",
              "      <td>2024-07-05 22:52:00+00:00</td>\n",
              "      <td>2024-07-17 22:21:52.857925+00:00</td>\n",
              "      <td>1721254912.1069021</td>\n",
              "      <td>JIcjfEXlRMhzTw</td>\n",
              "    </tr>\n",
              "    <tr>\n",
              "      <th>3</th>\n",
              "      <td>791be1a1-6c67-530d-87ab-bd9912500ea5</td>\n",
              "      <td>[-0.10974315, 0.10586075, 0.0032906067, -0.021...</td>\n",
              "      <td>ff36dcf3-5faa-40b4-ad8e-92fdc952201e</td>\n",
              "      <td>paragraph</td>\n",
              "      <td>Our company is dedicated to maintaining a safe...</td>\n",
              "      <td>2024-07-05 22:52:00+00:00</td>\n",
              "      <td>2024-07-17 22:21:52.858093+00:00</td>\n",
              "      <td>1721254912.1069021</td>\n",
              "      <td>z1t1vZo3TivfwA</td>\n",
              "    </tr>\n",
              "    <tr>\n",
              "      <th>4</th>\n",
              "      <td>a83497f4-922c-5d62-bab1-53804e93c811</td>\n",
              "      <td>[0.052423306, -0.06457594, 0.065863, 0.0145438...</td>\n",
              "      <td>a1ff9697-4bb6-4f1e-b464-dda296dbd307</td>\n",
              "      <td>paragraph</td>\n",
              "      <td>If your job doesn’t require you to be present ...</td>\n",
              "      <td>2024-07-05 22:52:00+00:00</td>\n",
              "      <td>2024-07-17 22:21:52.858280+00:00</td>\n",
              "      <td>1721254912.1069021</td>\n",
              "      <td>gXuzrrOaioT7Og</td>\n",
              "    </tr>\n",
              "    <tr>\n",
              "      <th>5</th>\n",
              "      <td>434b71e9-a11a-519d-a9fe-e3ade78d47d6</td>\n",
              "      <td>[0.0005233448, -0.054883398, 0.043573365, -0.0...</td>\n",
              "      <td>e4ec9f4d-b687-4c28-a80d-985bfabcc2ba</td>\n",
              "      <td>paragraph</td>\n",
              "      <td>Remote working refers to working from a non-of...</td>\n",
              "      <td>2024-07-05 22:52:00+00:00</td>\n",
              "      <td>2024-07-17 22:21:52.858473+00:00</td>\n",
              "      <td>1721254912.1069021</td>\n",
              "      <td>kUPW23IymIbR4A</td>\n",
              "    </tr>\n",
              "    <tr>\n",
              "      <th>6</th>\n",
              "      <td>17816363-54b7-5ba7-b8d5-06d871a25414</td>\n",
              "      <td>[0.03802632, -0.021509668, 0.0475278, 0.064706...</td>\n",
              "      <td>e6e550dc-b59e-4928-abd7-07eace948681</td>\n",
              "      <td>paragraph</td>\n",
              "      <td>There are some expenses that we will pay direc...</td>\n",
              "      <td>2024-07-05 22:52:00+00:00</td>\n",
              "      <td>2024-07-17 22:21:52.858639+00:00</td>\n",
              "      <td>1721254912.1069021</td>\n",
              "      <td>1h9P9WdKX8rK4w</td>\n",
              "    </tr>\n",
              "    <tr>\n",
              "      <th>7</th>\n",
              "      <td>2a434cf9-09d9-5514-a88b-02977f2f953e</td>\n",
              "      <td>[-0.058588073, -0.07540443, 0.033775173, 0.009...</td>\n",
              "      <td>a269d0ca-ce14-481b-a5f4-9192d6840d6e</td>\n",
              "      <td>paragraph</td>\n",
              "      <td>Our company operates between 9 a.m. to 7 p.m. ...</td>\n",
              "      <td>2024-07-05 22:52:00+00:00</td>\n",
              "      <td>2024-07-17 22:21:52.858804+00:00</td>\n",
              "      <td>1721254912.1069021</td>\n",
              "      <td>H1lIYr0cUkCPFQ</td>\n",
              "    </tr>\n",
              "    <tr>\n",
              "      <th>8</th>\n",
              "      <td>5f9384fa-7f98-5f52-a06e-05b05f42f69a</td>\n",
              "      <td>[-0.01359926, 0.004753031, 0.024835143, 0.0159...</td>\n",
              "      <td>5b65f3e7-0a37-429a-818d-f99b53755ebd</td>\n",
              "      <td>paragraph</td>\n",
              "      <td>In this section, we are going to be covering i...</td>\n",
              "      <td>2024-07-05 23:33:00+00:00</td>\n",
              "      <td>2024-07-17 22:21:52.858973+00:00</td>\n",
              "      <td>1721254912.1069021</td>\n",
              "      <td>5vG1uTashiGAXw</td>\n",
              "    </tr>\n",
              "    <tr>\n",
              "      <th>9</th>\n",
              "      <td>42af72f6-9db7-54a2-87b2-d466169078ff</td>\n",
              "      <td>[0.032060914, 0.02424462, 0.008471355, 0.03179...</td>\n",
              "      <td>b27f7d80-f2f1-460e-aa0c-b8e770cf050a</td>\n",
              "      <td>paragraph</td>\n",
              "      <td>Our company observes the following holidays: N...</td>\n",
              "      <td>2024-07-05 22:52:00+00:00</td>\n",
              "      <td>2024-07-17 22:21:52.859146+00:00</td>\n",
              "      <td>1721254912.1069021</td>\n",
              "      <td>wyHv60aKBi5Fmg</td>\n",
              "    </tr>\n",
              "    <tr>\n",
              "      <th>10</th>\n",
              "      <td>8bfc36ce-cdb0-5792-bd70-d12ff22fc227</td>\n",
              "      <td>[-0.013155272, 0.008382475, 0.017044408, 0.051...</td>\n",
              "      <td>cf2c7276-9d6d-4611-97ef-e7707a668176</td>\n",
              "      <td>paragraph</td>\n",
              "      <td>These holidays are considered “off-days” for m...</td>\n",
              "      <td>2024-07-05 22:52:00+00:00</td>\n",
              "      <td>2024-07-17 22:21:52.859317+00:00</td>\n",
              "      <td>1721254912.1069021</td>\n",
              "      <td>Q6Bcv4pAv0F5gA</td>\n",
              "    </tr>\n",
              "    <tr>\n",
              "      <th>11</th>\n",
              "      <td>b1737a97-6dca-564c-a169-78e306a5e124</td>\n",
              "      <td>[0.027987445, 0.06734361, 0.039806426, 0.00774...</td>\n",
              "      <td>79fd88bb-894c-4db3-961e-f2e9fa571399</td>\n",
              "      <td>paragraph</td>\n",
              "      <td>Employees who are unable to work due to illnes...</td>\n",
              "      <td>2024-07-05 22:52:00+00:00</td>\n",
              "      <td>2024-07-17 22:21:52.859481+00:00</td>\n",
              "      <td>1721254912.1069021</td>\n",
              "      <td>kVHvQGuOLEDMXQ</td>\n",
              "    </tr>\n",
              "    <tr>\n",
              "      <th>12</th>\n",
              "      <td>896f7ed8-e918-54f3-a7b8-565d53d6d22b</td>\n",
              "      <td>[0.03252609, 0.008159482, 0.084435634, 0.05564...</td>\n",
              "      <td>0b5f3660-7867-41ea-ae25-95585c3bb34e</td>\n",
              "      <td>paragraph</td>\n",
              "      <td>Losing a loved one is traumatizing. If this ha...</td>\n",
              "      <td>2024-07-05 22:52:00+00:00</td>\n",
              "      <td>2024-07-17 22:21:52.859639+00:00</td>\n",
              "      <td>1721254912.1069021</td>\n",
              "      <td>xHR6Ucufec2jQg</td>\n",
              "    </tr>\n",
              "    <tr>\n",
              "      <th>13</th>\n",
              "      <td>3557e3dd-de5b-51b9-bdee-b53ba588ed60</td>\n",
              "      <td>[-0.0073140753, 0.01471069, -0.019091198, 0.02...</td>\n",
              "      <td>3153e9cf-44bf-4ec1-b835-67d37731f9bc</td>\n",
              "      <td>paragraph</td>\n",
              "      <td>In accordance with German law, we offer a comp...</td>\n",
              "      <td>2024-07-05 22:52:00+00:00</td>\n",
              "      <td>2024-07-17 22:21:52.859795+00:00</td>\n",
              "      <td>1721254912.1069021</td>\n",
              "      <td>POJXIWWvqiEhzg</td>\n",
              "    </tr>\n",
              "    <tr>\n",
              "      <th>14</th>\n",
              "      <td>c51f99bf-5057-572e-bf9e-25dc03014c79</td>\n",
              "      <td>[-0.031538416, 0.034259938, -0.027282655, 0.02...</td>\n",
              "      <td>b9d67165-1028-4edc-841b-fe2fd4cf0cf7</td>\n",
              "      <td>paragraph</td>\n",
              "      <td>We recognize the vital role that fathers and p...</td>\n",
              "      <td>2024-07-05 22:52:00+00:00</td>\n",
              "      <td>2024-07-17 22:21:52.859952+00:00</td>\n",
              "      <td>1721254912.1069021</td>\n",
              "      <td>wLhk3kDYDvarDw</td>\n",
              "    </tr>\n",
              "    <tr>\n",
              "      <th>15</th>\n",
              "      <td>0317522c-a6db-59e8-ba5f-5ff0dc960d2e</td>\n",
              "      <td>[-0.017366918, 0.06079061, 0.015769996, -0.014...</td>\n",
              "      <td>72d2f585-a1b4-461e-ad88-45d9e3346425</td>\n",
              "      <td>paragraph</td>\n",
              "      <td>Our company’s official dress code is Business ...</td>\n",
              "      <td>2024-07-05 22:54:00+00:00</td>\n",
              "      <td>2024-07-17 22:21:52.860108+00:00</td>\n",
              "      <td>1721254912.1069021</td>\n",
              "      <td>0vRgSYEAsw5Frw</td>\n",
              "    </tr>\n",
              "    <tr>\n",
              "      <th>16</th>\n",
              "      <td>4d0eb4d7-f0ad-517c-8165-7eb7932ea0ed</td>\n",
              "      <td>[0.033655427, 0.035742376, 0.039310906, 0.0037...</td>\n",
              "      <td>b1a9a976-eef2-4c99-9f57-3e5adb873d1f</td>\n",
              "      <td>paragraph</td>\n",
              "      <td>If you want to invite a visitor to our offices...</td>\n",
              "      <td>2024-07-05 22:56:00+00:00</td>\n",
              "      <td>2024-07-17 22:21:52.860313+00:00</td>\n",
              "      <td>1721254912.1069021</td>\n",
              "      <td>kAb0ZwCaJr26cQ</td>\n",
              "    </tr>\n",
              "  </tbody>\n",
              "</table>\n",
              "</div>\n",
              "    <div class=\"colab-df-buttons\">\n",
              "\n",
              "  <div class=\"colab-df-container\">\n",
              "    <button class=\"colab-df-convert\" onclick=\"convertToInteractive('df-39991a97-e483-41b0-9852-d4542f47534e')\"\n",
              "            title=\"Convert this dataframe to an interactive table.\"\n",
              "            style=\"display:none;\">\n",
              "\n",
              "  <svg xmlns=\"http://www.w3.org/2000/svg\" height=\"24px\" viewBox=\"0 -960 960 960\">\n",
              "    <path d=\"M120-120v-720h720v720H120Zm60-500h600v-160H180v160Zm220 220h160v-160H400v160Zm0 220h160v-160H400v160ZM180-400h160v-160H180v160Zm440 0h160v-160H620v160ZM180-180h160v-160H180v160Zm440 0h160v-160H620v160Z\"/>\n",
              "  </svg>\n",
              "    </button>\n",
              "\n",
              "  <style>\n",
              "    .colab-df-container {\n",
              "      display:flex;\n",
              "      gap: 12px;\n",
              "    }\n",
              "\n",
              "    .colab-df-convert {\n",
              "      background-color: #E8F0FE;\n",
              "      border: none;\n",
              "      border-radius: 50%;\n",
              "      cursor: pointer;\n",
              "      display: none;\n",
              "      fill: #1967D2;\n",
              "      height: 32px;\n",
              "      padding: 0 0 0 0;\n",
              "      width: 32px;\n",
              "    }\n",
              "\n",
              "    .colab-df-convert:hover {\n",
              "      background-color: #E2EBFA;\n",
              "      box-shadow: 0px 1px 2px rgba(60, 64, 67, 0.3), 0px 1px 3px 1px rgba(60, 64, 67, 0.15);\n",
              "      fill: #174EA6;\n",
              "    }\n",
              "\n",
              "    .colab-df-buttons div {\n",
              "      margin-bottom: 4px;\n",
              "    }\n",
              "\n",
              "    [theme=dark] .colab-df-convert {\n",
              "      background-color: #3B4455;\n",
              "      fill: #D2E3FC;\n",
              "    }\n",
              "\n",
              "    [theme=dark] .colab-df-convert:hover {\n",
              "      background-color: #434B5C;\n",
              "      box-shadow: 0px 1px 3px 1px rgba(0, 0, 0, 0.15);\n",
              "      filter: drop-shadow(0px 1px 2px rgba(0, 0, 0, 0.3));\n",
              "      fill: #FFFFFF;\n",
              "    }\n",
              "  </style>\n",
              "\n",
              "    <script>\n",
              "      const buttonEl =\n",
              "        document.querySelector('#df-39991a97-e483-41b0-9852-d4542f47534e button.colab-df-convert');\n",
              "      buttonEl.style.display =\n",
              "        google.colab.kernel.accessAllowed ? 'block' : 'none';\n",
              "\n",
              "      async function convertToInteractive(key) {\n",
              "        const element = document.querySelector('#df-39991a97-e483-41b0-9852-d4542f47534e');\n",
              "        const dataTable =\n",
              "          await google.colab.kernel.invokeFunction('convertToInteractive',\n",
              "                                                    [key], {});\n",
              "        if (!dataTable) return;\n",
              "\n",
              "        const docLinkHtml = 'Like what you see? Visit the ' +\n",
              "          '<a target=\"_blank\" href=https://colab.research.google.com/notebooks/data_table.ipynb>data table notebook</a>'\n",
              "          + ' to learn more about interactive tables.';\n",
              "        element.innerHTML = '';\n",
              "        dataTable['output_type'] = 'display_data';\n",
              "        await google.colab.output.renderOutput(dataTable, element);\n",
              "        const docLink = document.createElement('div');\n",
              "        docLink.innerHTML = docLinkHtml;\n",
              "        element.appendChild(docLink);\n",
              "      }\n",
              "    </script>\n",
              "  </div>\n",
              "\n",
              "\n",
              "<div id=\"df-82a22b31-2136-4568-8c22-40be3d544cb9\">\n",
              "  <button class=\"colab-df-quickchart\" onclick=\"quickchart('df-82a22b31-2136-4568-8c22-40be3d544cb9')\"\n",
              "            title=\"Suggest charts\"\n",
              "            style=\"display:none;\">\n",
              "\n",
              "<svg xmlns=\"http://www.w3.org/2000/svg\" height=\"24px\"viewBox=\"0 0 24 24\"\n",
              "     width=\"24px\">\n",
              "    <g>\n",
              "        <path d=\"M19 3H5c-1.1 0-2 .9-2 2v14c0 1.1.9 2 2 2h14c1.1 0 2-.9 2-2V5c0-1.1-.9-2-2-2zM9 17H7v-7h2v7zm4 0h-2V7h2v10zm4 0h-2v-4h2v4z\"/>\n",
              "    </g>\n",
              "</svg>\n",
              "  </button>\n",
              "\n",
              "<style>\n",
              "  .colab-df-quickchart {\n",
              "      --bg-color: #E8F0FE;\n",
              "      --fill-color: #1967D2;\n",
              "      --hover-bg-color: #E2EBFA;\n",
              "      --hover-fill-color: #174EA6;\n",
              "      --disabled-fill-color: #AAA;\n",
              "      --disabled-bg-color: #DDD;\n",
              "  }\n",
              "\n",
              "  [theme=dark] .colab-df-quickchart {\n",
              "      --bg-color: #3B4455;\n",
              "      --fill-color: #D2E3FC;\n",
              "      --hover-bg-color: #434B5C;\n",
              "      --hover-fill-color: #FFFFFF;\n",
              "      --disabled-bg-color: #3B4455;\n",
              "      --disabled-fill-color: #666;\n",
              "  }\n",
              "\n",
              "  .colab-df-quickchart {\n",
              "    background-color: var(--bg-color);\n",
              "    border: none;\n",
              "    border-radius: 50%;\n",
              "    cursor: pointer;\n",
              "    display: none;\n",
              "    fill: var(--fill-color);\n",
              "    height: 32px;\n",
              "    padding: 0;\n",
              "    width: 32px;\n",
              "  }\n",
              "\n",
              "  .colab-df-quickchart:hover {\n",
              "    background-color: var(--hover-bg-color);\n",
              "    box-shadow: 0 1px 2px rgba(60, 64, 67, 0.3), 0 1px 3px 1px rgba(60, 64, 67, 0.15);\n",
              "    fill: var(--button-hover-fill-color);\n",
              "  }\n",
              "\n",
              "  .colab-df-quickchart-complete:disabled,\n",
              "  .colab-df-quickchart-complete:disabled:hover {\n",
              "    background-color: var(--disabled-bg-color);\n",
              "    fill: var(--disabled-fill-color);\n",
              "    box-shadow: none;\n",
              "  }\n",
              "\n",
              "  .colab-df-spinner {\n",
              "    border: 2px solid var(--fill-color);\n",
              "    border-color: transparent;\n",
              "    border-bottom-color: var(--fill-color);\n",
              "    animation:\n",
              "      spin 1s steps(1) infinite;\n",
              "  }\n",
              "\n",
              "  @keyframes spin {\n",
              "    0% {\n",
              "      border-color: transparent;\n",
              "      border-bottom-color: var(--fill-color);\n",
              "      border-left-color: var(--fill-color);\n",
              "    }\n",
              "    20% {\n",
              "      border-color: transparent;\n",
              "      border-left-color: var(--fill-color);\n",
              "      border-top-color: var(--fill-color);\n",
              "    }\n",
              "    30% {\n",
              "      border-color: transparent;\n",
              "      border-left-color: var(--fill-color);\n",
              "      border-top-color: var(--fill-color);\n",
              "      border-right-color: var(--fill-color);\n",
              "    }\n",
              "    40% {\n",
              "      border-color: transparent;\n",
              "      border-right-color: var(--fill-color);\n",
              "      border-top-color: var(--fill-color);\n",
              "    }\n",
              "    60% {\n",
              "      border-color: transparent;\n",
              "      border-right-color: var(--fill-color);\n",
              "    }\n",
              "    80% {\n",
              "      border-color: transparent;\n",
              "      border-right-color: var(--fill-color);\n",
              "      border-bottom-color: var(--fill-color);\n",
              "    }\n",
              "    90% {\n",
              "      border-color: transparent;\n",
              "      border-bottom-color: var(--fill-color);\n",
              "    }\n",
              "  }\n",
              "</style>\n",
              "\n",
              "  <script>\n",
              "    async function quickchart(key) {\n",
              "      const quickchartButtonEl =\n",
              "        document.querySelector('#' + key + ' button');\n",
              "      quickchartButtonEl.disabled = true;  // To prevent multiple clicks.\n",
              "      quickchartButtonEl.classList.add('colab-df-spinner');\n",
              "      try {\n",
              "        const charts = await google.colab.kernel.invokeFunction(\n",
              "            'suggestCharts', [key], {});\n",
              "      } catch (error) {\n",
              "        console.error('Error during call to suggestCharts:', error);\n",
              "      }\n",
              "      quickchartButtonEl.classList.remove('colab-df-spinner');\n",
              "      quickchartButtonEl.classList.add('colab-df-quickchart-complete');\n",
              "    }\n",
              "    (() => {\n",
              "      let quickchartButtonEl =\n",
              "        document.querySelector('#df-82a22b31-2136-4568-8c22-40be3d544cb9 button');\n",
              "      quickchartButtonEl.style.display =\n",
              "        google.colab.kernel.accessAllowed ? 'block' : 'none';\n",
              "    })();\n",
              "  </script>\n",
              "</div>\n",
              "\n",
              "    </div>\n",
              "  </div>\n"
            ],
            "application/vnd.google.colaboratory.intrinsic+json": {
              "type": "dataframe",
              "summary": "{\n  \"name\": \"dbtable\",\n  \"rows\": 17,\n  \"fields\": [\n    {\n      \"column\": \"id__\",\n      \"properties\": {\n        \"dtype\": \"string\",\n        \"num_unique_values\": 17,\n        \"samples\": [\n          \"c69f1ecf-7b02-5810-8286-3f42659ae9d4\",\n          \"f2c18ac0-50f5-5b72-a871-dc5a46780353\",\n          \"434b71e9-a11a-519d-a9fe-e3ade78d47d6\"\n        ],\n        \"semantic_type\": \"\",\n        \"description\": \"\"\n      }\n    },\n    {\n      \"column\": \"vector__\",\n      \"properties\": {\n        \"dtype\": \"object\",\n        \"semantic_type\": \"\",\n        \"description\": \"\"\n      }\n    },\n    {\n      \"column\": \"block_id\",\n      \"properties\": {\n        \"dtype\": \"string\",\n        \"num_unique_values\": 17,\n        \"samples\": [\n          \"a8196881-ae94-4767-8767-92fe1a327d24\",\n          \"31fcbf26-2ca5-468a-8af8-d7eb4c2db8c8\",\n          \"e4ec9f4d-b687-4c28-a80d-985bfabcc2ba\"\n        ],\n        \"semantic_type\": \"\",\n        \"description\": \"\"\n      }\n    },\n    {\n      \"column\": \"block_type\",\n      \"properties\": {\n        \"dtype\": \"category\",\n        \"num_unique_values\": 1,\n        \"samples\": [\n          \"paragraph\"\n        ],\n        \"semantic_type\": \"\",\n        \"description\": \"\"\n      }\n    },\n    {\n      \"column\": \"content\",\n      \"properties\": {\n        \"dtype\": \"string\",\n        \"num_unique_values\": 17,\n        \"samples\": [\n          \"We owe our success to our employees. To show our gratitude, we will invest in our employees professional development. We want employees to feel confident about improving their efficiency and productivity. We also want to help our employees achieve personal growth and success. Each employee has $1,000 annually to spend on educational activities or material. Subscriptions and books are included in this budget, unless they are necessary for you to complete your everyday duties. Send your expenses to HR by email. Apart from online courses, we offer these training opportunities: formal training sessions (individual or corporate, employee coaching and mentoring, seats at industry conferences, on-the-job training, job shadowing, job rotation. Development is a collective process. Team members and managers should regularly discuss learning needs and opportunities. And it\\u2019s HR\\u2019s responsibility to facilitate any development activities and processes.\"\n        ],\n        \"semantic_type\": \"\",\n        \"description\": \"\"\n      }\n    },\n    {\n      \"column\": \"last_edited_time\",\n      \"properties\": {\n        \"dtype\": \"date\",\n        \"min\": \"2024-07-05 22:34:00+00:00\",\n        \"max\": \"2024-07-05 23:33:00+00:00\",\n        \"num_unique_values\": 6,\n        \"samples\": [\n          \"2024-07-05 22:34:00+00:00\"\n        ],\n        \"semantic_type\": \"\",\n        \"description\": \"\"\n      }\n    },\n    {\n      \"column\": \"inserted_at_time\",\n      \"properties\": {\n        \"dtype\": \"date\",\n        \"min\": \"2024-07-17 22:21:52.854092+00:00\",\n        \"max\": \"2024-07-17 22:21:52.860313+00:00\",\n        \"num_unique_values\": 17,\n        \"samples\": [\n          \"2024-07-17 22:21:52.854092+00:00\"\n        ],\n        \"semantic_type\": \"\",\n        \"description\": \"\"\n      }\n    },\n    {\n      \"column\": \"_dlt_load_id\",\n      \"properties\": {\n        \"dtype\": \"category\",\n        \"num_unique_values\": 1,\n        \"samples\": [\n          \"1721254912.1069021\"\n        ],\n        \"semantic_type\": \"\",\n        \"description\": \"\"\n      }\n    },\n    {\n      \"column\": \"_dlt_id\",\n      \"properties\": {\n        \"dtype\": \"string\",\n        \"num_unique_values\": 17,\n        \"samples\": [\n          \"Zj+0pZiOHk8Ihg\"\n        ],\n        \"semantic_type\": \"\",\n        \"description\": \"\"\n      }\n    }\n  ]\n}"
            }
          },
          "metadata": {},
          "execution_count": 4
        }
      ],
      "source": [
        "import lancedb\n",
        "\n",
        "db = lancedb.connect(\".lancedb\")\n",
        "dbtable = db.open_table(\"notion_pages___homework\")\n",
        "\n",
        "dbtable.to_pandas()"
      ]
    },
    {
      "cell_type": "markdown",
      "source": [
        "**Answer 1:** 17"
      ],
      "metadata": {
        "id": "RwrlaJ5Nzshb"
      },
      "id": "RwrlaJ5Nzshb"
    },
    {
      "cell_type": "markdown",
      "source": [
        "Check the latest time"
      ],
      "metadata": {
        "id": "6QWU88Hw2m3M"
      },
      "id": "6QWU88Hw2m3M"
    },
    {
      "cell_type": "code",
      "source": [
        "table = db.open_table(\"notion_pages___homework\")\n",
        "data = table.to_pandas()  # Convert the table data to a pandas DataFrame\n",
        "\n",
        "# Find the maximum last_edited_time\n",
        "latest_time = data['last_edited_time'].max()\n",
        "print(f\"Answer 2: {latest_time}\")"
      ],
      "metadata": {
        "id": "ydmrub492rJc",
        "outputId": "7ed0e258-edf4-44a6-fd3d-60f4c77ad335",
        "colab": {
          "base_uri": "https://localhost:8080/"
        }
      },
      "id": "ydmrub492rJc",
      "execution_count": 5,
      "outputs": [
        {
          "output_type": "stream",
          "name": "stdout",
          "text": [
            "Answer 2: 2024-07-05 23:33:00+00:00\n"
          ]
        }
      ]
    },
    {
      "cell_type": "markdown",
      "source": [
        "Install Ollama"
      ],
      "metadata": {
        "id": "tnC5RCOEz7Ci"
      },
      "id": "tnC5RCOEz7Ci"
    },
    {
      "cell_type": "code",
      "source": [
        "!curl -fsSL https://ollama.com/install.sh | sh"
      ],
      "metadata": {
        "id": "rQ_EhRdC0AJR",
        "outputId": "e44a81dd-40a7-49fb-dd9f-9cd4304fd7b1",
        "colab": {
          "base_uri": "https://localhost:8080/"
        }
      },
      "id": "rQ_EhRdC0AJR",
      "execution_count": 6,
      "outputs": [
        {
          "output_type": "stream",
          "name": "stdout",
          "text": [
            ">>> Downloading ollama...\n",
            "############################################################################################# 100.0%\n",
            ">>> Installing ollama to /usr/local/bin...\n",
            ">>> Adding ollama user to video group...\n",
            ">>> Adding current user to ollama group...\n",
            ">>> Creating ollama systemd service...\n",
            "WARNING: Unable to detect NVIDIA/AMD GPU. Install lspci or lshw to automatically detect and install GPU dependencies.\n",
            ">>> The Ollama API is now available at 127.0.0.1:11434.\n",
            ">>> Install complete. Run \"ollama\" from the command line.\n"
          ]
        }
      ]
    },
    {
      "cell_type": "markdown",
      "source": [
        "Start Ollama"
      ],
      "metadata": {
        "id": "rSQkDIDO0ELE"
      },
      "id": "rSQkDIDO0ELE"
    },
    {
      "cell_type": "code",
      "source": [
        "!nohup ollama serve > nohup.out 2>&1 &"
      ],
      "metadata": {
        "id": "5JiM-SBu0Fh7"
      },
      "id": "5JiM-SBu0Fh7",
      "execution_count": 7,
      "outputs": []
    },
    {
      "cell_type": "markdown",
      "source": [
        "Pull the model"
      ],
      "metadata": {
        "id": "aCwnCfp50JLS"
      },
      "id": "aCwnCfp50JLS"
    },
    {
      "cell_type": "code",
      "source": [
        "%%capture\n",
        "!ollama pull llama2-uncensored"
      ],
      "metadata": {
        "id": "2hcJg7gW0Kvj"
      },
      "id": "2hcJg7gW0Kvj",
      "execution_count": 8,
      "outputs": []
    },
    {
      "cell_type": "markdown",
      "source": [
        "Install and import"
      ],
      "metadata": {
        "id": "yfUbzSLQ0PIg"
      },
      "id": "yfUbzSLQ0PIg"
    },
    {
      "cell_type": "code",
      "source": [
        "!pip install ollama"
      ],
      "metadata": {
        "id": "0d-6aVl60QJ7",
        "outputId": "cdf40357-442c-4f93-e9c6-54d5e30c70fc",
        "colab": {
          "base_uri": "https://localhost:8080/"
        }
      },
      "id": "0d-6aVl60QJ7",
      "execution_count": 9,
      "outputs": [
        {
          "output_type": "stream",
          "name": "stdout",
          "text": [
            "Requirement already satisfied: ollama in /usr/local/lib/python3.10/dist-packages (0.2.1)\n",
            "Requirement already satisfied: httpx<0.28.0,>=0.27.0 in /usr/local/lib/python3.10/dist-packages (from ollama) (0.27.0)\n",
            "Requirement already satisfied: anyio in /usr/local/lib/python3.10/dist-packages (from httpx<0.28.0,>=0.27.0->ollama) (3.7.1)\n",
            "Requirement already satisfied: certifi in /usr/local/lib/python3.10/dist-packages (from httpx<0.28.0,>=0.27.0->ollama) (2024.7.4)\n",
            "Requirement already satisfied: httpcore==1.* in /usr/local/lib/python3.10/dist-packages (from httpx<0.28.0,>=0.27.0->ollama) (1.0.5)\n",
            "Requirement already satisfied: idna in /usr/local/lib/python3.10/dist-packages (from httpx<0.28.0,>=0.27.0->ollama) (3.7)\n",
            "Requirement already satisfied: sniffio in /usr/local/lib/python3.10/dist-packages (from httpx<0.28.0,>=0.27.0->ollama) (1.3.1)\n",
            "Requirement already satisfied: h11<0.15,>=0.13 in /usr/local/lib/python3.10/dist-packages (from httpcore==1.*->httpx<0.28.0,>=0.27.0->ollama) (0.14.0)\n",
            "Requirement already satisfied: exceptiongroup in /usr/local/lib/python3.10/dist-packages (from anyio->httpx<0.28.0,>=0.27.0->ollama) (1.2.2)\n"
          ]
        }
      ]
    },
    {
      "cell_type": "code",
      "source": [
        "import ollama"
      ],
      "metadata": {
        "id": "ATlzf7Yt0eUn"
      },
      "id": "ATlzf7Yt0eUn",
      "execution_count": 10,
      "outputs": []
    },
    {
      "cell_type": "markdown",
      "source": [
        "Function to retrieve context"
      ],
      "metadata": {
        "id": "NLLaRX7m0juf"
      },
      "id": "NLLaRX7m0juf"
    },
    {
      "cell_type": "code",
      "source": [
        "def retrieve_context_from_lancedb(dbtable, question, top_k=2):\n",
        "\n",
        "    query_results = dbtable.search(query=question).to_list()\n",
        "    context = \"\\n\".join([result[\"content\"] for result in query_results[:top_k]])\n",
        "\n",
        "    return context"
      ],
      "metadata": {
        "id": "6rE3PToM0lKh"
      },
      "id": "6rE3PToM0lKh",
      "execution_count": 11,
      "outputs": []
    },
    {
      "cell_type": "markdown",
      "source": [
        "Defining basic RAG"
      ],
      "metadata": {
        "id": "CBIpZt5B0oi3"
      },
      "id": "CBIpZt5B0oi3"
    },
    {
      "cell_type": "code",
      "source": [
        "def main():\n",
        "  # Connect to the lancedb table\n",
        "  db = lancedb.connect(\".lancedb\")\n",
        "  dbtable = db.open_table(\"notion_pages___homework\")\n",
        "\n",
        "  # A system prompt telling ollama to accept input in the form of \"Question: ... ; Context: ...\"\n",
        "  messages = [\n",
        "      {\"role\": \"system\", \"content\": \"You are a helpful assistant that helps users understand policies inside a company's employee handbook. The user will first ask you a question and then provide you relevant paragraphs from the handbook as context. Please answer the question based on the provided context. For any details missing in the paragraph, encourage the employee to contact the HR for that information. Please keep the responses conversational.\"}\n",
        "  ]\n",
        "\n",
        "  while True:\n",
        "    # Accept user question\n",
        "    question = input(\"You: \")\n",
        "\n",
        "    # Retrieve the relevant paragraphs on the question\n",
        "    context = retrieve_context_from_lancedb(dbtable,question,top_k=2)\n",
        "\n",
        "    # Create a user prompt using the question and retrieved context\n",
        "    messages.append(\n",
        "        {\"role\": \"user\", \"content\": f\"Question: '{question}'; Context:'{context}'\"}\n",
        "    )\n",
        "\n",
        "    # Get the response from the LLM\n",
        "    response = ollama.chat(\n",
        "        model=\"llama2-uncensored\",\n",
        "        messages=messages\n",
        "    )\n",
        "    response_content = response['message']['content']\n",
        "    print(f\"Assistant: {response_content}\")\n",
        "\n",
        "    # Add the response into the context window\n",
        "    messages.append(\n",
        "        {\"role\": \"assistant\", \"content\":response_content}\n",
        "    )"
      ],
      "metadata": {
        "id": "iB0kZW510p_U"
      },
      "id": "iB0kZW510p_U",
      "execution_count": 12,
      "outputs": []
    },
    {
      "cell_type": "markdown",
      "source": [
        "Time to test with the following query: how many PTO days are the employees entitled to in a year?"
      ],
      "metadata": {
        "id": "sa8L5a4Y0wWf"
      },
      "id": "sa8L5a4Y0wWf"
    },
    {
      "cell_type": "code",
      "source": [
        "main()"
      ],
      "metadata": {
        "id": "Kr-JSnhA0zZp",
        "outputId": "26974d9f-d50e-4963-bf45-4087e8518293",
        "colab": {
          "base_uri": "https://localhost:8080/",
          "height": 446
        }
      },
      "id": "Kr-JSnhA0zZp",
      "execution_count": 13,
      "outputs": [
        {
          "name": "stdout",
          "output_type": "stream",
          "text": [
            "You: how many PTO days are the employees entitled to in a year?\n"
          ]
        },
        {
          "output_type": "stream",
          "name": "stderr",
          "text": [
            "/usr/local/lib/python3.10/dist-packages/huggingface_hub/utils/_token.py:89: UserWarning: \n",
            "The secret `HF_TOKEN` does not exist in your Colab secrets.\n",
            "To authenticate with the Hugging Face Hub, create a token in your settings tab (https://huggingface.co/settings/tokens), set it as secret in your Google Colab and restart your session.\n",
            "You will be able to reuse this secret in all of your notebooks.\n",
            "Please note that authentication is recommended but still optional to access public models or datasets.\n",
            "  warnings.warn(\n"
          ]
        },
        {
          "output_type": "stream",
          "name": "stdout",
          "text": [
            "Assistant: Based on the provided context, it appears that employees are entitled to 30 days of PTO per year. If you have any additional questions or would like more information about your specific situation, please contact HR for clarification.\n"
          ]
        },
        {
          "output_type": "error",
          "ename": "KeyboardInterrupt",
          "evalue": "Interrupted by user",
          "traceback": [
            "\u001b[0;31m---------------------------------------------------------------------------\u001b[0m",
            "\u001b[0;31mKeyboardInterrupt\u001b[0m                         Traceback (most recent call last)",
            "\u001b[0;32m<ipython-input-13-263240bbee7e>\u001b[0m in \u001b[0;36m<cell line: 1>\u001b[0;34m()\u001b[0m\n\u001b[0;32m----> 1\u001b[0;31m \u001b[0mmain\u001b[0m\u001b[0;34m(\u001b[0m\u001b[0;34m)\u001b[0m\u001b[0;34m\u001b[0m\u001b[0;34m\u001b[0m\u001b[0m\n\u001b[0m",
            "\u001b[0;32m<ipython-input-12-0dc58a88b370>\u001b[0m in \u001b[0;36mmain\u001b[0;34m()\u001b[0m\n\u001b[1;32m     11\u001b[0m   \u001b[0;32mwhile\u001b[0m \u001b[0;32mTrue\u001b[0m\u001b[0;34m:\u001b[0m\u001b[0;34m\u001b[0m\u001b[0;34m\u001b[0m\u001b[0m\n\u001b[1;32m     12\u001b[0m     \u001b[0;31m# Accept user question\u001b[0m\u001b[0;34m\u001b[0m\u001b[0;34m\u001b[0m\u001b[0m\n\u001b[0;32m---> 13\u001b[0;31m     \u001b[0mquestion\u001b[0m \u001b[0;34m=\u001b[0m \u001b[0minput\u001b[0m\u001b[0;34m(\u001b[0m\u001b[0;34m\"You: \"\u001b[0m\u001b[0;34m)\u001b[0m\u001b[0;34m\u001b[0m\u001b[0;34m\u001b[0m\u001b[0m\n\u001b[0m\u001b[1;32m     14\u001b[0m \u001b[0;34m\u001b[0m\u001b[0m\n\u001b[1;32m     15\u001b[0m     \u001b[0;31m# Retrieve the relevant paragraphs on the question\u001b[0m\u001b[0;34m\u001b[0m\u001b[0;34m\u001b[0m\u001b[0m\n",
            "\u001b[0;32m/usr/local/lib/python3.10/dist-packages/ipykernel/kernelbase.py\u001b[0m in \u001b[0;36mraw_input\u001b[0;34m(self, prompt)\u001b[0m\n\u001b[1;32m    849\u001b[0m                 \u001b[0;34m\"raw_input was called, but this frontend does not support input requests.\"\u001b[0m\u001b[0;34m\u001b[0m\u001b[0;34m\u001b[0m\u001b[0m\n\u001b[1;32m    850\u001b[0m             )\n\u001b[0;32m--> 851\u001b[0;31m         return self._input_request(str(prompt),\n\u001b[0m\u001b[1;32m    852\u001b[0m             \u001b[0mself\u001b[0m\u001b[0;34m.\u001b[0m\u001b[0m_parent_ident\u001b[0m\u001b[0;34m,\u001b[0m\u001b[0;34m\u001b[0m\u001b[0;34m\u001b[0m\u001b[0m\n\u001b[1;32m    853\u001b[0m             \u001b[0mself\u001b[0m\u001b[0;34m.\u001b[0m\u001b[0m_parent_header\u001b[0m\u001b[0;34m,\u001b[0m\u001b[0;34m\u001b[0m\u001b[0;34m\u001b[0m\u001b[0m\n",
            "\u001b[0;32m/usr/local/lib/python3.10/dist-packages/ipykernel/kernelbase.py\u001b[0m in \u001b[0;36m_input_request\u001b[0;34m(self, prompt, ident, parent, password)\u001b[0m\n\u001b[1;32m    893\u001b[0m             \u001b[0;32mexcept\u001b[0m \u001b[0mKeyboardInterrupt\u001b[0m\u001b[0;34m:\u001b[0m\u001b[0;34m\u001b[0m\u001b[0;34m\u001b[0m\u001b[0m\n\u001b[1;32m    894\u001b[0m                 \u001b[0;31m# re-raise KeyboardInterrupt, to truncate traceback\u001b[0m\u001b[0;34m\u001b[0m\u001b[0;34m\u001b[0m\u001b[0m\n\u001b[0;32m--> 895\u001b[0;31m                 \u001b[0;32mraise\u001b[0m \u001b[0mKeyboardInterrupt\u001b[0m\u001b[0;34m(\u001b[0m\u001b[0;34m\"Interrupted by user\"\u001b[0m\u001b[0;34m)\u001b[0m \u001b[0;32mfrom\u001b[0m \u001b[0;32mNone\u001b[0m\u001b[0;34m\u001b[0m\u001b[0;34m\u001b[0m\u001b[0m\n\u001b[0m\u001b[1;32m    896\u001b[0m             \u001b[0;32mexcept\u001b[0m \u001b[0mException\u001b[0m \u001b[0;32mas\u001b[0m \u001b[0me\u001b[0m\u001b[0;34m:\u001b[0m\u001b[0;34m\u001b[0m\u001b[0;34m\u001b[0m\u001b[0m\n\u001b[1;32m    897\u001b[0m                 \u001b[0mself\u001b[0m\u001b[0;34m.\u001b[0m\u001b[0mlog\u001b[0m\u001b[0;34m.\u001b[0m\u001b[0mwarning\u001b[0m\u001b[0;34m(\u001b[0m\u001b[0;34m\"Invalid Message:\"\u001b[0m\u001b[0;34m,\u001b[0m \u001b[0mexc_info\u001b[0m\u001b[0;34m=\u001b[0m\u001b[0;32mTrue\u001b[0m\u001b[0;34m)\u001b[0m\u001b[0;34m\u001b[0m\u001b[0;34m\u001b[0m\u001b[0m\n",
            "\u001b[0;31mKeyboardInterrupt\u001b[0m: Interrupted by user"
          ]
        }
      ]
    },
    {
      "cell_type": "markdown",
      "source": [
        "**Answer 3:** 30"
      ],
      "metadata": {
        "id": "m34H05s71J7r"
      },
      "id": "m34H05s71J7r"
    }
  ],
  "metadata": {
    "kernelspec": {
      "display_name": "Python 3",
      "name": "python3"
    },
    "language_info": {
      "codemirror_mode": {
        "name": "ipython",
        "version": 3
      },
      "file_extension": ".py",
      "mimetype": "text/x-python",
      "name": "python",
      "nbconvert_exporter": "python",
      "pygments_lexer": "ipython3",
      "version": "3.12.4"
    },
    "colab": {
      "provenance": [],
      "gpuType": "T4",
      "include_colab_link": true
    },
    "accelerator": "GPU"
  },
  "nbformat": 4,
  "nbformat_minor": 5
}