{
 "cells": [
  {
   "cell_type": "markdown",
   "id": "fa2e1195-af99-4a63-b1c7-b6d8c99848ff",
   "metadata": {},
   "source": [
    "### Q1 Running Mage"
   ]
  },
  {
   "cell_type": "code",
   "execution_count": null,
   "id": "256878df-4a5b-4d35-a21a-7237caf713b2",
   "metadata": {},
   "outputs": [],
   "source": [
    "v0.9.72"
   ]
  },
  {
   "cell_type": "markdown",
   "id": "1d6be3de-9d75-494d-9e88-c8788f4836ec",
   "metadata": {},
   "source": [
    "### Q2 Reading the documents"
   ]
  },
  {
   "cell_type": "code",
   "execution_count": null,
   "id": "58476b65-8148-40fe-9a3a-578d191689bb",
   "metadata": {},
   "outputs": [],
   "source": []
  }
 ],
 "metadata": {
  "kernelspec": {
   "display_name": "Python 3 (ipykernel)",
   "language": "python",
   "name": "python3"
  },
  "language_info": {
   "codemirror_mode": {
    "name": "ipython",
    "version": 3
   },
   "file_extension": ".py",
   "mimetype": "text/x-python",
   "name": "python",
   "nbconvert_exporter": "python",
   "pygments_lexer": "ipython3",
   "version": "3.12.4"
  }
 },
 "nbformat": 4,
 "nbformat_minor": 5
}
