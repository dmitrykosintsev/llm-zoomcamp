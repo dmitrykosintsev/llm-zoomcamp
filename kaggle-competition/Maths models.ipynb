{
 "cells": [
  {
   "cell_type": "markdown",
   "id": "2b380c2f-59a2-4329-b8b0-e40cc80b20ac",
   "metadata": {},
   "source": [
    "# Maths models for LLM Zoomcamp math competition"
   ]
  },
  {
   "cell_type": "code",
   "execution_count": null,
   "id": "5d1fd083-1637-4ffa-bf3b-1c70e3dc24d9",
   "metadata": {},
   "outputs": [],
   "source": [
    "# Installing necessary packages\n",
    "! pip install -qU langchain-openai langchain"
   ]
  },
  {
   "cell_type": "code",
   "execution_count": null,
   "id": "42118573-8923-4cea-a682-f7629316bdc7",
   "metadata": {},
   "outputs": [],
   "source": [
    "# Necessary imports\n",
    "import pandas as pd\n",
    "import numpy as np\n",
    "from langchain.prompts import PromptTemplate, OpenAI, ChatOpenAI\n",
    "from dotenv import load_dotenv\n",
    "from tqdm.auto import tqdm\n",
    "from concurrent.futures import ThreadPoolExecutor\n",
    "import os\n",
    "import re"
   ]
  },
  {
   "cell_type": "markdown",
   "id": "79956ba1-aab9-43bf-b97b-6a2ac5e7600b",
   "metadata": {},
   "source": [
    "## microsoft/rho-math-7b-interpreter-v0.1"
   ]
  },
  {
   "cell_type": "code",
   "execution_count": null,
   "id": "fba70f2f-5690-412c-a8ea-ffa4e6097195",
   "metadata": {},
   "outputs": [],
   "source": []
  },
  {
   "cell_type": "markdown",
   "id": "29b49455-e684-450c-b752-b0f8fdb4fbc1",
   "metadata": {},
   "source": [
    "## MathLLMs/MathCoder-CL-7B"
   ]
  },
  {
   "cell_type": "code",
   "execution_count": null,
   "id": "c6103c8f-ca28-4787-891c-4dbb80949f38",
   "metadata": {},
   "outputs": [],
   "source": []
  },
  {
   "cell_type": "markdown",
   "id": "64f81676-9148-415d-8eba-50da0b9e8ebf",
   "metadata": {},
   "source": [
    "## Qwen/Qwen2-Math-7B-Instruct"
   ]
  },
  {
   "cell_type": "code",
   "execution_count": null,
   "id": "c1464c15-0413-48e1-9806-7757ea8b8b73",
   "metadata": {},
   "outputs": [],
   "source": []
  },
  {
   "cell_type": "markdown",
   "id": "00965172-5bf1-44d9-ac15-dcdeaea63eb5",
   "metadata": {},
   "source": [
    "## deepseek-ai/deepseek-math-7b-rl"
   ]
  }
 ],
 "metadata": {
  "kernelspec": {
   "display_name": "Python 3 (ipykernel)",
   "language": "python",
   "name": "python3"
  },
  "language_info": {
   "codemirror_mode": {
    "name": "ipython",
    "version": 3
   },
   "file_extension": ".py",
   "mimetype": "text/x-python",
   "name": "python",
   "nbconvert_exporter": "python",
   "pygments_lexer": "ipython3",
   "version": "3.12.5"
  }
 },
 "nbformat": 4,
 "nbformat_minor": 5
}
